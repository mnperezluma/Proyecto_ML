{
 "cells": [
  {
   "cell_type": "code",
   "execution_count": 1,
   "id": "7503f08c",
   "metadata": {},
   "outputs": [],
   "source": [
    "import pandas as pd\n",
    "import numpy as np\n",
    "from sklearn.model_selection import ShuffleSplit\n",
    "from sklearn.model_selection import cross_val_score\n",
    "import statistics\n",
    "import warnings\n",
    "warnings.simplefilter(\"ignore\")\n",
    "from sklearn.model_selection import train_test_split\n",
    "from sklearn.metrics import mean_squared_error, r2_score \n",
    "from sklearn.ensemble import RandomForestRegressor\n",
    "from matplotlib import pyplot\n",
    "import os"
   ]
  },
  {
   "cell_type": "code",
   "execution_count": 2,
   "id": "af3130a2",
   "metadata": {},
   "outputs": [],
   "source": [
    "housing_df = pd.read_csv('house_train_raw.csv')"
   ]
  },
  {
   "cell_type": "markdown",
   "id": "dfa52c68",
   "metadata": {},
   "source": [
    "# Reviso la cantidad y con qué columnas cuento"
   ]
  },
  {
   "cell_type": "code",
   "execution_count": 3,
   "id": "32fd6116",
   "metadata": {},
   "outputs": [
    {
     "data": {
      "text/plain": [
       "Index(['Id', 'MSSubClass', 'MSZoning', 'LotFrontage', 'LotArea', 'Street',\n",
       "       'Alley', 'LotShape', 'LandContour', 'Utilities', 'LotConfig',\n",
       "       'LandSlope', 'Neighborhood', 'Condition1', 'Condition2', 'BldgType',\n",
       "       'HouseStyle', 'OverallQual', 'OverallCond', 'YearBuilt', 'YearRemodAdd',\n",
       "       'RoofStyle', 'RoofMatl', 'Exterior1st', 'Exterior2nd', 'MasVnrType',\n",
       "       'MasVnrArea', 'ExterQual', 'ExterCond', 'Foundation', 'BsmtQual',\n",
       "       'BsmtCond', 'BsmtExposure', 'BsmtFinType1', 'BsmtFinSF1',\n",
       "       'BsmtFinType2', 'BsmtFinSF2', 'BsmtUnfSF', 'TotalBsmtSF', 'Heating',\n",
       "       'HeatingQC', 'CentralAir', 'Electrical', '1stFlrSF', '2ndFlrSF',\n",
       "       'LowQualFinSF', 'GrLivArea', 'BsmtFullBath', 'BsmtHalfBath', 'FullBath',\n",
       "       'HalfBath', 'BedroomAbvGr', 'KitchenAbvGr', 'KitchenQual',\n",
       "       'TotRmsAbvGrd', 'Functional', 'Fireplaces', 'FireplaceQu', 'GarageType',\n",
       "       'GarageYrBlt', 'GarageFinish', 'GarageCars', 'GarageArea', 'GarageQual',\n",
       "       'GarageCond', 'PavedDrive', 'WoodDeckSF', 'OpenPorchSF',\n",
       "       'EnclosedPorch', '3SsnPorch', 'ScreenPorch', 'PoolArea', 'PoolQC',\n",
       "       'Fence', 'MiscFeature', 'MiscVal', 'MoSold', 'YrSold', 'SaleType',\n",
       "       'SaleCondition', 'SalePrice'],\n",
       "      dtype='object')"
      ]
     },
     "execution_count": 3,
     "metadata": {},
     "output_type": "execute_result"
    }
   ],
   "source": [
    "housing_df.columns"
   ]
  },
  {
   "cell_type": "markdown",
   "id": "8d93792c",
   "metadata": {},
   "source": [
    "# Realizo EDA sobre columnas que elijo para mi modelo como 'x'"
   ]
  },
  {
   "cell_type": "code",
   "execution_count": 4,
   "id": "9e85b70f",
   "metadata": {},
   "outputs": [],
   "source": [
    "X = housing_df[['ExterCond','SaleCondition','RoofMatl','GarageArea','LotArea','YearBuilt','KitchenAbvGr','BedroomAbvGr','OverallCond','OverallQual','FullBath','TotRmsAbvGrd','2ndFlrSF','1stFlrSF','MSSubClass','Neighborhood']]"
   ]
  },
  {
   "cell_type": "markdown",
   "id": "4fe3bc9b",
   "metadata": {},
   "source": [
    "# Variables Categoricas"
   ]
  },
  {
   "cell_type": "code",
   "execution_count": 5,
   "id": "4e951753",
   "metadata": {},
   "outputs": [],
   "source": [
    "# Trabajo con variables catégoricas en primera instancia. Las cuales son 'ExterCond', 'SaleCondition', 'RoofMatl' y 'Neighborhood'"
   ]
  },
  {
   "cell_type": "code",
   "execution_count": 6,
   "id": "ea92d30a",
   "metadata": {},
   "outputs": [
    {
     "data": {
      "text/plain": [
       "TA    1282\n",
       "Gd     146\n",
       "Fa      28\n",
       "Ex       3\n",
       "Po       1\n",
       "Name: ExterCond, dtype: int64"
      ]
     },
     "execution_count": 6,
     "metadata": {},
     "output_type": "execute_result"
    }
   ],
   "source": [
    "X['ExterCond'].value_counts()"
   ]
  },
  {
   "cell_type": "code",
   "execution_count": 7,
   "id": "4f7740b7",
   "metadata": {},
   "outputs": [
    {
     "data": {
      "text/plain": [
       "array(['TA', 'Gd', 'Fa', 'Po', 'Ex'], dtype=object)"
      ]
     },
     "execution_count": 7,
     "metadata": {},
     "output_type": "execute_result"
    }
   ],
   "source": [
    "X['ExterCond'].unique()"
   ]
  },
  {
   "cell_type": "code",
   "execution_count": 8,
   "id": "d42ef36f",
   "metadata": {},
   "outputs": [],
   "source": [
    "X['ExterCond'] = X['ExterCond'].map({'TA': 1, 'Gd': 2, 'Fa': 3, 'Po': 4, 'Ex': 5})"
   ]
  },
  {
   "cell_type": "code",
   "execution_count": 9,
   "id": "5bcdbad1",
   "metadata": {},
   "outputs": [
    {
     "data": {
      "text/plain": [
       "Normal     1198\n",
       "Partial     125\n",
       "Abnorml     101\n",
       "Family       20\n",
       "Alloca       12\n",
       "AdjLand       4\n",
       "Name: SaleCondition, dtype: int64"
      ]
     },
     "execution_count": 9,
     "metadata": {},
     "output_type": "execute_result"
    }
   ],
   "source": [
    "X['SaleCondition'].value_counts()"
   ]
  },
  {
   "cell_type": "code",
   "execution_count": 10,
   "id": "12feb2f7",
   "metadata": {},
   "outputs": [
    {
     "data": {
      "text/plain": [
       "array(['Normal', 'Abnorml', 'Partial', 'AdjLand', 'Alloca', 'Family'],\n",
       "      dtype=object)"
      ]
     },
     "execution_count": 10,
     "metadata": {},
     "output_type": "execute_result"
    }
   ],
   "source": [
    "X['SaleCondition'].unique()"
   ]
  },
  {
   "cell_type": "code",
   "execution_count": 11,
   "id": "1ce772e1",
   "metadata": {},
   "outputs": [],
   "source": [
    "X['SaleCondition'] = X['SaleCondition'].map({'Normal': 1, 'Abnorml': 2, 'Partial': 3, 'AdjLand': 4, 'Alloca': 5, 'Family': 6})"
   ]
  },
  {
   "cell_type": "code",
   "execution_count": 12,
   "id": "01f06802",
   "metadata": {},
   "outputs": [],
   "source": [
    "# En 'RoofMatl', me quedo con solo dos campos para reducir dimensionalidad. "
   ]
  },
  {
   "cell_type": "code",
   "execution_count": 13,
   "id": "a9421c03",
   "metadata": {},
   "outputs": [],
   "source": [
    "listado_roof = X['RoofMatl'].value_counts()\n",
    "roof_material_menos_15 = listado_roof[listado_roof<=15]\n",
    "X['RoofMatl'] = X['RoofMatl'].apply(lambda x: 2 if x in roof_material_menos_15 else 1)"
   ]
  },
  {
   "cell_type": "code",
   "execution_count": 14,
   "id": "d020293c",
   "metadata": {},
   "outputs": [],
   "source": [
    "# En 'Neighborhood' creo dummies para poder utilizar en mi modelo y mejorar la perfomance. "
   ]
  },
  {
   "cell_type": "code",
   "execution_count": 15,
   "id": "407672e7",
   "metadata": {},
   "outputs": [
    {
     "data": {
      "text/plain": [
       "25"
      ]
     },
     "execution_count": 15,
     "metadata": {},
     "output_type": "execute_result"
    }
   ],
   "source": [
    "len(X['Neighborhood'].unique())"
   ]
  },
  {
   "cell_type": "code",
   "execution_count": 16,
   "id": "7fb74ec1",
   "metadata": {},
   "outputs": [],
   "source": [
    "dummies = pd.get_dummies(X['Neighborhood'])"
   ]
  },
  {
   "cell_type": "code",
   "execution_count": 17,
   "id": "f2dc148a",
   "metadata": {},
   "outputs": [],
   "source": [
    "X_new = pd.concat([X,dummies],axis='columns')"
   ]
  },
  {
   "cell_type": "code",
   "execution_count": 18,
   "id": "68a7c1c7",
   "metadata": {},
   "outputs": [],
   "source": [
    "X_new.drop(['Neighborhood'],axis='columns',inplace=True)"
   ]
  },
  {
   "cell_type": "markdown",
   "id": "b58cb158",
   "metadata": {},
   "source": [
    "## Variables Numericas"
   ]
  },
  {
   "cell_type": "code",
   "execution_count": 19,
   "id": "fef0e31d",
   "metadata": {},
   "outputs": [
    {
     "data": {
      "text/plain": [
       "0      81\n",
       "440    49\n",
       "576    47\n",
       "240    38\n",
       "484    34\n",
       "       ..\n",
       "320     1\n",
       "594     1\n",
       "831     1\n",
       "878     1\n",
       "192     1\n",
       "Name: GarageArea, Length: 441, dtype: int64"
      ]
     },
     "execution_count": 19,
     "metadata": {},
     "output_type": "execute_result"
    }
   ],
   "source": [
    "X_new['GarageArea'].value_counts()"
   ]
  },
  {
   "cell_type": "code",
   "execution_count": 20,
   "id": "0a93985e",
   "metadata": {},
   "outputs": [
    {
     "data": {
      "text/plain": [
       "7200     25\n",
       "9600     24\n",
       "6000     17\n",
       "9000     14\n",
       "8400     14\n",
       "         ..\n",
       "14601     1\n",
       "13682     1\n",
       "4058      1\n",
       "17104     1\n",
       "9717      1\n",
       "Name: LotArea, Length: 1073, dtype: int64"
      ]
     },
     "execution_count": 20,
     "metadata": {},
     "output_type": "execute_result"
    }
   ],
   "source": [
    "X_new['LotArea'].value_counts(ascending=False)"
   ]
  },
  {
   "cell_type": "code",
   "execution_count": 21,
   "id": "85eca128",
   "metadata": {},
   "outputs": [
    {
     "data": {
      "text/plain": [
       "count    1460.000000\n",
       "mean     1971.267808\n",
       "std        30.202904\n",
       "min      1872.000000\n",
       "25%      1954.000000\n",
       "50%      1973.000000\n",
       "75%      2000.000000\n",
       "max      2010.000000\n",
       "Name: YearBuilt, dtype: float64"
      ]
     },
     "execution_count": 21,
     "metadata": {},
     "output_type": "execute_result"
    }
   ],
   "source": [
    "X_new['YearBuilt'].describe()"
   ]
  },
  {
   "cell_type": "code",
   "execution_count": 22,
   "id": "ea161669",
   "metadata": {},
   "outputs": [
    {
     "data": {
      "text/plain": [
       "5    821\n",
       "6    252\n",
       "7    205\n",
       "8     72\n",
       "4     57\n",
       "3     25\n",
       "9     22\n",
       "2      5\n",
       "1      1\n",
       "Name: OverallCond, dtype: int64"
      ]
     },
     "execution_count": 22,
     "metadata": {},
     "output_type": "execute_result"
    }
   ],
   "source": [
    "X_new['OverallCond'].value_counts()"
   ]
  },
  {
   "cell_type": "code",
   "execution_count": 23,
   "id": "0d2f2252",
   "metadata": {},
   "outputs": [
    {
     "data": {
      "text/plain": [
       "5     397\n",
       "6     374\n",
       "7     319\n",
       "8     168\n",
       "4     116\n",
       "9      43\n",
       "3      20\n",
       "10     18\n",
       "2       3\n",
       "1       2\n",
       "Name: OverallQual, dtype: int64"
      ]
     },
     "execution_count": 23,
     "metadata": {},
     "output_type": "execute_result"
    }
   ],
   "source": [
    "X_new['OverallQual'].value_counts()"
   ]
  },
  {
   "cell_type": "code",
   "execution_count": 24,
   "id": "5e91abe9",
   "metadata": {},
   "outputs": [
    {
     "data": {
      "text/plain": [
       "2    768\n",
       "1    650\n",
       "3     33\n",
       "0      9\n",
       "Name: FullBath, dtype: int64"
      ]
     },
     "execution_count": 24,
     "metadata": {},
     "output_type": "execute_result"
    }
   ],
   "source": [
    "X_new['FullBath'].value_counts()"
   ]
  },
  {
   "cell_type": "code",
   "execution_count": 25,
   "id": "cf59bca8",
   "metadata": {},
   "outputs": [
    {
     "data": {
      "text/plain": [
       "1    1392\n",
       "2      65\n",
       "3       2\n",
       "0       1\n",
       "Name: KitchenAbvGr, dtype: int64"
      ]
     },
     "execution_count": 25,
     "metadata": {},
     "output_type": "execute_result"
    }
   ],
   "source": [
    "X_new['KitchenAbvGr'].value_counts()"
   ]
  },
  {
   "cell_type": "code",
   "execution_count": 26,
   "id": "70d251f4",
   "metadata": {},
   "outputs": [
    {
     "data": {
      "text/plain": [
       "3    804\n",
       "2    358\n",
       "4    213\n",
       "1     50\n",
       "5     21\n",
       "6      7\n",
       "0      6\n",
       "8      1\n",
       "Name: BedroomAbvGr, dtype: int64"
      ]
     },
     "execution_count": 26,
     "metadata": {},
     "output_type": "execute_result"
    }
   ],
   "source": [
    "X_new['BedroomAbvGr'].value_counts()"
   ]
  },
  {
   "cell_type": "code",
   "execution_count": 27,
   "id": "56abe14b",
   "metadata": {},
   "outputs": [
    {
     "data": {
      "text/plain": [
       "6     402\n",
       "7     329\n",
       "5     275\n",
       "8     187\n",
       "4      97\n",
       "9      75\n",
       "10     47\n",
       "11     18\n",
       "3      17\n",
       "12     11\n",
       "2       1\n",
       "14      1\n",
       "Name: TotRmsAbvGrd, dtype: int64"
      ]
     },
     "execution_count": 27,
     "metadata": {},
     "output_type": "execute_result"
    }
   ],
   "source": [
    "X_new['TotRmsAbvGrd'].value_counts()"
   ]
  },
  {
   "cell_type": "code",
   "execution_count": 28,
   "id": "aa768ffb",
   "metadata": {},
   "outputs": [
    {
     "data": {
      "text/plain": [
       "count    1460.000000\n",
       "mean      346.992466\n",
       "std       436.528436\n",
       "min         0.000000\n",
       "25%         0.000000\n",
       "50%         0.000000\n",
       "75%       728.000000\n",
       "max      2065.000000\n",
       "Name: 2ndFlrSF, dtype: float64"
      ]
     },
     "execution_count": 28,
     "metadata": {},
     "output_type": "execute_result"
    }
   ],
   "source": [
    "X_new['2ndFlrSF'].describe()"
   ]
  },
  {
   "cell_type": "code",
   "execution_count": 29,
   "id": "d85832ea",
   "metadata": {},
   "outputs": [
    {
     "data": {
      "text/plain": [
       "0        856\n",
       "1       1262\n",
       "2        920\n",
       "3        961\n",
       "4       1145\n",
       "        ... \n",
       "1455     953\n",
       "1456    2073\n",
       "1457    1188\n",
       "1458    1078\n",
       "1459    1256\n",
       "Name: 1stFlrSF, Length: 1460, dtype: int64"
      ]
     },
     "execution_count": 29,
     "metadata": {},
     "output_type": "execute_result"
    }
   ],
   "source": [
    "X_new['1stFlrSF']"
   ]
  },
  {
   "cell_type": "code",
   "execution_count": 30,
   "id": "a3de5719",
   "metadata": {},
   "outputs": [
    {
     "data": {
      "text/html": [
       "<div>\n",
       "<style scoped>\n",
       "    .dataframe tbody tr th:only-of-type {\n",
       "        vertical-align: middle;\n",
       "    }\n",
       "\n",
       "    .dataframe tbody tr th {\n",
       "        vertical-align: top;\n",
       "    }\n",
       "\n",
       "    .dataframe thead th {\n",
       "        text-align: right;\n",
       "    }\n",
       "</style>\n",
       "<table border=\"1\" class=\"dataframe\">\n",
       "  <thead>\n",
       "    <tr style=\"text-align: right;\">\n",
       "      <th></th>\n",
       "      <th>ExterCond</th>\n",
       "      <th>SaleCondition</th>\n",
       "      <th>RoofMatl</th>\n",
       "      <th>GarageArea</th>\n",
       "      <th>LotArea</th>\n",
       "      <th>YearBuilt</th>\n",
       "      <th>KitchenAbvGr</th>\n",
       "      <th>BedroomAbvGr</th>\n",
       "      <th>OverallCond</th>\n",
       "      <th>OverallQual</th>\n",
       "      <th>...</th>\n",
       "      <th>NoRidge</th>\n",
       "      <th>NridgHt</th>\n",
       "      <th>OldTown</th>\n",
       "      <th>SWISU</th>\n",
       "      <th>Sawyer</th>\n",
       "      <th>SawyerW</th>\n",
       "      <th>Somerst</th>\n",
       "      <th>StoneBr</th>\n",
       "      <th>Timber</th>\n",
       "      <th>Veenker</th>\n",
       "    </tr>\n",
       "  </thead>\n",
       "  <tbody>\n",
       "    <tr>\n",
       "      <th>0</th>\n",
       "      <td>1</td>\n",
       "      <td>1</td>\n",
       "      <td>1</td>\n",
       "      <td>548</td>\n",
       "      <td>8450</td>\n",
       "      <td>2003</td>\n",
       "      <td>1</td>\n",
       "      <td>3</td>\n",
       "      <td>5</td>\n",
       "      <td>7</td>\n",
       "      <td>...</td>\n",
       "      <td>0</td>\n",
       "      <td>0</td>\n",
       "      <td>0</td>\n",
       "      <td>0</td>\n",
       "      <td>0</td>\n",
       "      <td>0</td>\n",
       "      <td>0</td>\n",
       "      <td>0</td>\n",
       "      <td>0</td>\n",
       "      <td>0</td>\n",
       "    </tr>\n",
       "    <tr>\n",
       "      <th>2</th>\n",
       "      <td>1</td>\n",
       "      <td>1</td>\n",
       "      <td>1</td>\n",
       "      <td>608</td>\n",
       "      <td>11250</td>\n",
       "      <td>2001</td>\n",
       "      <td>1</td>\n",
       "      <td>3</td>\n",
       "      <td>5</td>\n",
       "      <td>7</td>\n",
       "      <td>...</td>\n",
       "      <td>0</td>\n",
       "      <td>0</td>\n",
       "      <td>0</td>\n",
       "      <td>0</td>\n",
       "      <td>0</td>\n",
       "      <td>0</td>\n",
       "      <td>0</td>\n",
       "      <td>0</td>\n",
       "      <td>0</td>\n",
       "      <td>0</td>\n",
       "    </tr>\n",
       "    <tr>\n",
       "      <th>3</th>\n",
       "      <td>1</td>\n",
       "      <td>2</td>\n",
       "      <td>1</td>\n",
       "      <td>642</td>\n",
       "      <td>9550</td>\n",
       "      <td>1915</td>\n",
       "      <td>1</td>\n",
       "      <td>3</td>\n",
       "      <td>5</td>\n",
       "      <td>7</td>\n",
       "      <td>...</td>\n",
       "      <td>0</td>\n",
       "      <td>0</td>\n",
       "      <td>0</td>\n",
       "      <td>0</td>\n",
       "      <td>0</td>\n",
       "      <td>0</td>\n",
       "      <td>0</td>\n",
       "      <td>0</td>\n",
       "      <td>0</td>\n",
       "      <td>0</td>\n",
       "    </tr>\n",
       "    <tr>\n",
       "      <th>5</th>\n",
       "      <td>1</td>\n",
       "      <td>1</td>\n",
       "      <td>1</td>\n",
       "      <td>480</td>\n",
       "      <td>14115</td>\n",
       "      <td>1993</td>\n",
       "      <td>1</td>\n",
       "      <td>1</td>\n",
       "      <td>5</td>\n",
       "      <td>5</td>\n",
       "      <td>...</td>\n",
       "      <td>0</td>\n",
       "      <td>0</td>\n",
       "      <td>0</td>\n",
       "      <td>0</td>\n",
       "      <td>0</td>\n",
       "      <td>0</td>\n",
       "      <td>0</td>\n",
       "      <td>0</td>\n",
       "      <td>0</td>\n",
       "      <td>0</td>\n",
       "    </tr>\n",
       "    <tr>\n",
       "      <th>12</th>\n",
       "      <td>1</td>\n",
       "      <td>1</td>\n",
       "      <td>1</td>\n",
       "      <td>352</td>\n",
       "      <td>12968</td>\n",
       "      <td>1962</td>\n",
       "      <td>1</td>\n",
       "      <td>2</td>\n",
       "      <td>6</td>\n",
       "      <td>5</td>\n",
       "      <td>...</td>\n",
       "      <td>0</td>\n",
       "      <td>0</td>\n",
       "      <td>0</td>\n",
       "      <td>0</td>\n",
       "      <td>1</td>\n",
       "      <td>0</td>\n",
       "      <td>0</td>\n",
       "      <td>0</td>\n",
       "      <td>0</td>\n",
       "      <td>0</td>\n",
       "    </tr>\n",
       "    <tr>\n",
       "      <th>...</th>\n",
       "      <td>...</td>\n",
       "      <td>...</td>\n",
       "      <td>...</td>\n",
       "      <td>...</td>\n",
       "      <td>...</td>\n",
       "      <td>...</td>\n",
       "      <td>...</td>\n",
       "      <td>...</td>\n",
       "      <td>...</td>\n",
       "      <td>...</td>\n",
       "      <td>...</td>\n",
       "      <td>...</td>\n",
       "      <td>...</td>\n",
       "      <td>...</td>\n",
       "      <td>...</td>\n",
       "      <td>...</td>\n",
       "      <td>...</td>\n",
       "      <td>...</td>\n",
       "      <td>...</td>\n",
       "      <td>...</td>\n",
       "      <td>...</td>\n",
       "    </tr>\n",
       "    <tr>\n",
       "      <th>1445</th>\n",
       "      <td>1</td>\n",
       "      <td>1</td>\n",
       "      <td>1</td>\n",
       "      <td>240</td>\n",
       "      <td>8400</td>\n",
       "      <td>1966</td>\n",
       "      <td>1</td>\n",
       "      <td>3</td>\n",
       "      <td>5</td>\n",
       "      <td>6</td>\n",
       "      <td>...</td>\n",
       "      <td>0</td>\n",
       "      <td>0</td>\n",
       "      <td>0</td>\n",
       "      <td>0</td>\n",
       "      <td>1</td>\n",
       "      <td>0</td>\n",
       "      <td>0</td>\n",
       "      <td>0</td>\n",
       "      <td>0</td>\n",
       "      <td>0</td>\n",
       "    </tr>\n",
       "    <tr>\n",
       "      <th>1448</th>\n",
       "      <td>1</td>\n",
       "      <td>1</td>\n",
       "      <td>1</td>\n",
       "      <td>384</td>\n",
       "      <td>11767</td>\n",
       "      <td>1910</td>\n",
       "      <td>1</td>\n",
       "      <td>2</td>\n",
       "      <td>7</td>\n",
       "      <td>4</td>\n",
       "      <td>...</td>\n",
       "      <td>0</td>\n",
       "      <td>0</td>\n",
       "      <td>0</td>\n",
       "      <td>0</td>\n",
       "      <td>0</td>\n",
       "      <td>0</td>\n",
       "      <td>0</td>\n",
       "      <td>0</td>\n",
       "      <td>0</td>\n",
       "      <td>0</td>\n",
       "    </tr>\n",
       "    <tr>\n",
       "      <th>1449</th>\n",
       "      <td>1</td>\n",
       "      <td>2</td>\n",
       "      <td>1</td>\n",
       "      <td>0</td>\n",
       "      <td>1533</td>\n",
       "      <td>1970</td>\n",
       "      <td>1</td>\n",
       "      <td>1</td>\n",
       "      <td>7</td>\n",
       "      <td>5</td>\n",
       "      <td>...</td>\n",
       "      <td>0</td>\n",
       "      <td>0</td>\n",
       "      <td>0</td>\n",
       "      <td>0</td>\n",
       "      <td>0</td>\n",
       "      <td>0</td>\n",
       "      <td>0</td>\n",
       "      <td>0</td>\n",
       "      <td>0</td>\n",
       "      <td>0</td>\n",
       "    </tr>\n",
       "    <tr>\n",
       "      <th>1450</th>\n",
       "      <td>1</td>\n",
       "      <td>1</td>\n",
       "      <td>1</td>\n",
       "      <td>0</td>\n",
       "      <td>9000</td>\n",
       "      <td>1974</td>\n",
       "      <td>2</td>\n",
       "      <td>4</td>\n",
       "      <td>5</td>\n",
       "      <td>5</td>\n",
       "      <td>...</td>\n",
       "      <td>0</td>\n",
       "      <td>0</td>\n",
       "      <td>0</td>\n",
       "      <td>0</td>\n",
       "      <td>0</td>\n",
       "      <td>0</td>\n",
       "      <td>0</td>\n",
       "      <td>0</td>\n",
       "      <td>0</td>\n",
       "      <td>0</td>\n",
       "    </tr>\n",
       "    <tr>\n",
       "      <th>1455</th>\n",
       "      <td>1</td>\n",
       "      <td>1</td>\n",
       "      <td>1</td>\n",
       "      <td>460</td>\n",
       "      <td>7917</td>\n",
       "      <td>1999</td>\n",
       "      <td>1</td>\n",
       "      <td>3</td>\n",
       "      <td>5</td>\n",
       "      <td>6</td>\n",
       "      <td>...</td>\n",
       "      <td>0</td>\n",
       "      <td>0</td>\n",
       "      <td>0</td>\n",
       "      <td>0</td>\n",
       "      <td>0</td>\n",
       "      <td>0</td>\n",
       "      <td>0</td>\n",
       "      <td>0</td>\n",
       "      <td>0</td>\n",
       "      <td>0</td>\n",
       "    </tr>\n",
       "  </tbody>\n",
       "</table>\n",
       "<p>584 rows × 40 columns</p>\n",
       "</div>"
      ],
      "text/plain": [
       "      ExterCond  SaleCondition  RoofMatl  GarageArea  LotArea  YearBuilt  \\\n",
       "0             1              1         1         548     8450       2003   \n",
       "2             1              1         1         608    11250       2001   \n",
       "3             1              2         1         642     9550       1915   \n",
       "5             1              1         1         480    14115       1993   \n",
       "12            1              1         1         352    12968       1962   \n",
       "...         ...            ...       ...         ...      ...        ...   \n",
       "1445          1              1         1         240     8400       1966   \n",
       "1448          1              1         1         384    11767       1910   \n",
       "1449          1              2         1           0     1533       1970   \n",
       "1450          1              1         1           0     9000       1974   \n",
       "1455          1              1         1         460     7917       1999   \n",
       "\n",
       "      KitchenAbvGr  BedroomAbvGr  OverallCond  OverallQual  ...  NoRidge  \\\n",
       "0                1             3            5            7  ...        0   \n",
       "2                1             3            5            7  ...        0   \n",
       "3                1             3            5            7  ...        0   \n",
       "5                1             1            5            5  ...        0   \n",
       "12               1             2            6            5  ...        0   \n",
       "...            ...           ...          ...          ...  ...      ...   \n",
       "1445             1             3            5            6  ...        0   \n",
       "1448             1             2            7            4  ...        0   \n",
       "1449             1             1            7            5  ...        0   \n",
       "1450             2             4            5            5  ...        0   \n",
       "1455             1             3            5            6  ...        0   \n",
       "\n",
       "      NridgHt  OldTown  SWISU  Sawyer  SawyerW  Somerst  StoneBr  Timber  \\\n",
       "0           0        0      0       0        0        0        0       0   \n",
       "2           0        0      0       0        0        0        0       0   \n",
       "3           0        0      0       0        0        0        0       0   \n",
       "5           0        0      0       0        0        0        0       0   \n",
       "12          0        0      0       1        0        0        0       0   \n",
       "...       ...      ...    ...     ...      ...      ...      ...     ...   \n",
       "1445        0        0      0       1        0        0        0       0   \n",
       "1448        0        0      0       0        0        0        0       0   \n",
       "1449        0        0      0       0        0        0        0       0   \n",
       "1450        0        0      0       0        0        0        0       0   \n",
       "1455        0        0      0       0        0        0        0       0   \n",
       "\n",
       "      Veenker  \n",
       "0           0  \n",
       "2           0  \n",
       "3           0  \n",
       "5           0  \n",
       "12          0  \n",
       "...       ...  \n",
       "1445        0  \n",
       "1448        0  \n",
       "1449        0  \n",
       "1450        0  \n",
       "1455        0  \n",
       "\n",
       "[584 rows x 40 columns]"
      ]
     },
     "execution_count": 30,
     "metadata": {},
     "output_type": "execute_result"
    }
   ],
   "source": [
    "X_new[X_new['1stFlrSF'] <= 1000]"
   ]
  },
  {
   "cell_type": "markdown",
   "id": "ee398973",
   "metadata": {},
   "source": [
    "## Definicion de Y"
   ]
  },
  {
   "cell_type": "code",
   "execution_count": 31,
   "id": "3653706a",
   "metadata": {},
   "outputs": [],
   "source": [
    "y = housing_df['SalePrice']"
   ]
  },
  {
   "cell_type": "markdown",
   "id": "121ca652",
   "metadata": {},
   "source": [
    "### Visualización gráfica de modelos y metricas - RMSLE & R2"
   ]
  },
  {
   "cell_type": "code",
   "execution_count": 43,
   "id": "ad2f3863",
   "metadata": {
    "scrolled": true
   },
   "outputs": [
    {
     "name": "stdout",
     "output_type": "stream",
     "text": [
      ">1, train: 0.115, test: 0.172\n",
      ">2, train: 0.092, test: 0.161\n",
      ">3, train: 0.077, test: 0.158\n",
      ">4, train: 0.072, test: 0.156\n",
      ">5, train: 0.069, test: 0.151\n",
      ">6, train: 0.068, test: 0.153\n",
      ">7, train: 0.067, test: 0.150\n",
      ">8, train: 0.066, test: 0.147\n",
      ">9, train: 0.066, test: 0.147\n",
      ">10, train: 0.066, test: 0.149\n",
      ">11, train: 0.066, test: 0.148\n",
      ">12, train: 0.065, test: 0.152\n",
      ">13, train: 0.065, test: 0.146\n",
      ">14, train: 0.063, test: 0.147\n",
      ">15, train: 0.066, test: 0.147\n",
      ">16, train: 0.064, test: 0.145\n",
      ">17, train: 0.066, test: 0.146\n",
      ">18, train: 0.066, test: 0.148\n",
      ">19, train: 0.065, test: 0.148\n"
     ]
    },
    {
     "data": {
      "image/png": "[encoded data removed]",
      "text/plain": [
       "<Figure size 432x288 with 1 Axes>"
      ]
     },
     "metadata": {
      "needs_background": "light"
     },
     "output_type": "display_data"
    }
   ],
   "source": [
    "# Utilizo este método para grafica y analiticamente visualizar los RMSLE\n",
    "X_train, X_test, y_train, y_test = train_test_split(X_new, y, test_size=0.2)\n",
    "# Defino listas para obtener score tanto de test como de train\n",
    "train_scores, test_scores = list(), list()\n",
    "# Utilizo lista para recorrer y jugar con los parámetros para ver cuál me da mejor score para mi métrica\n",
    "values = [i for i in range(1,20)]\n",
    "# Evaluo opciones para distintos modelos\n",
    "for i in values:\n",
    "\t# Seteo el modelo\n",
    "\tmodel = RandomForestRegressor(max_depth=16,max_features=i)\n",
    "\t# Hago un fit para mi modelo\n",
    "\tmodel.fit(X_train, y_train)\n",
    "\t# Evalua sobre el train set\n",
    "\ttrain_yhat = model.predict(X_train)\n",
    "\ttrain_acc = mean_squared_log_error(y_train, train_yhat)**(0.5)\n",
    "\ttrain_scores.append(train_acc)\n",
    "\t# Evalua sobre el test \n",
    "\ttest_yhat = model.predict(X_test)\n",
    "\ttest_acc = mean_squared_log_error(y_test, test_yhat)**(0.5)\n",
    "\ttest_scores.append(test_acc)\n",
    "\t# Reflejamos el \n",
    "\tprint('>%d, train: %.3f, test: %.3f' % (i, train_acc, test_acc))\n",
    "# Gráfico de train y test relacionado a los RMSLE\n",
    "pyplot.plot(values, train_scores, '-o', label='Train')\n",
    "pyplot.plot(values, test_scores, '-o', label='Test')\n",
    "pyplot.title(\"RMSLE\")\n",
    "pyplot.xlabel(\"Features & Parameters\")\n",
    "pyplot.ylabel(\"Scores\")\n",
    "pyplot.legend()\n",
    "pyplot.show()"
   ]
  },
  {
   "cell_type": "code",
   "execution_count": 47,
   "id": "5b42c6e3",
   "metadata": {},
   "outputs": [
    {
     "name": "stdout",
     "output_type": "stream",
     "text": [
      ">1, train: 0.944, test: 0.854\n",
      ">2, train: 0.962, test: 0.870\n",
      ">3, train: 0.972, test: 0.881\n",
      ">4, train: 0.974, test: 0.880\n",
      ">5, train: 0.978, test: 0.887\n",
      ">6, train: 0.977, test: 0.885\n",
      ">7, train: 0.976, test: 0.886\n",
      ">8, train: 0.977, test: 0.878\n",
      ">9, train: 0.977, test: 0.885\n",
      ">10, train: 0.979, test: 0.887\n",
      ">11, train: 0.978, test: 0.885\n",
      ">12, train: 0.978, test: 0.887\n",
      ">13, train: 0.979, test: 0.888\n",
      ">14, train: 0.978, test: 0.887\n",
      ">15, train: 0.979, test: 0.885\n",
      ">16, train: 0.979, test: 0.885\n",
      ">17, train: 0.980, test: 0.879\n",
      ">18, train: 0.979, test: 0.881\n",
      ">19, train: 0.980, test: 0.885\n"
     ]
    },
    {
     "data": {
      "image/png": "[encoded data removed]",
      "text/plain": [
       "<Figure size 432x288 with 1 Axes>"
      ]
     },
     "metadata": {
      "needs_background": "light"
     },
     "output_type": "display_data"
    }
   ],
   "source": [
    "# Utilizo este método para grafica y analiticamente visualizar los r2 scores\n",
    "X_train, X_test, y_train, y_test = train_test_split(X_new, y, test_size=0.2)\n",
    "# Defino listas para obtener score tanto de test como de train\n",
    "train_scores, test_scores = list(), list()\n",
    "# Utilizo lista para recorrer y jugar con los parámetros para ver cuál me da mejor R2\n",
    "values = [i for i in range(1,20)]\n",
    "# Evaluo opciones para distintos modelos\n",
    "for i in values:\n",
    "\t# Seteo el modelo\n",
    "\tmodel = RandomForestRegressor(max_depth=16,max_features=i)\n",
    "\t# Hago un fit para mi modelo\n",
    "\tmodel.fit(X_train, y_train)\n",
    "\t# Evalua sobre el train set\n",
    "\ttrain_yhat = model.predict(X_train)\n",
    "\ttrain_acc = r2_score(y_train, train_yhat)\n",
    "\ttrain_scores.append(train_acc)\n",
    "\t# Evalua sobre el test \n",
    "\ttest_yhat = model.predict(X_test)\n",
    "\ttest_acc = r2_score(y_test, test_yhat)\n",
    "\ttest_scores.append(test_acc)\n",
    "\t# Reflejamos el \n",
    "\tprint('>%d, train: %.3f, test: %.3f' % (i, train_acc, test_acc))\n",
    "# Gráfico de train y test relacionado a los R2\n",
    "pyplot.plot(values, train_scores, '-o', label='Train')\n",
    "pyplot.plot(values, test_scores, '-o', label='Test')\n",
    "pyplot.title(\"R2\")\n",
    "pyplot.xlabel(\"Features\")\n",
    "pyplot.ylabel(\"Scores\")\n",
    "pyplot.legend()\n",
    "pyplot.show()"
   ]
  },
  {
   "cell_type": "markdown",
   "id": "7d415573",
   "metadata": {},
   "source": [
    "***"
   ]
  },
  {
   "cell_type": "markdown",
   "id": "302ffe47",
   "metadata": {},
   "source": [
    "***"
   ]
  },
  {
   "cell_type": "markdown",
   "id": "df2a3201",
   "metadata": {},
   "source": [
    "## Ejecución del modelo - RandomForestRegressor"
   ]
  },
  {
   "cell_type": "code",
   "execution_count": 142,
   "id": "429cd561",
   "metadata": {},
   "outputs": [],
   "source": [
    "#Separo mi modelo en train and test, en un 0.8 y 0.2 respectivamente"
   ]
  },
  {
   "cell_type": "code",
   "execution_count": 32,
   "id": "5f2d5962",
   "metadata": {},
   "outputs": [],
   "source": [
    "X_train,X_test,y_train,y_test = train_test_split(X_new,y,test_size=0.2)"
   ]
  },
  {
   "cell_type": "code",
   "execution_count": 33,
   "id": "78c29121",
   "metadata": {},
   "outputs": [],
   "source": [
    "# Creo mi modelo a utilizar y lo pongo a entrenar"
   ]
  },
  {
   "cell_type": "code",
   "execution_count": 34,
   "id": "8b91b5a4",
   "metadata": {},
   "outputs": [],
   "source": [
    "modelo = RandomForestRegressor(max_depth=16,max_features=15)"
   ]
  },
  {
   "cell_type": "code",
   "execution_count": 35,
   "id": "8f8156dc",
   "metadata": {},
   "outputs": [
    {
     "data": {
      "text/plain": [
       "RandomForestRegressor(max_depth=16, max_features=15)"
      ]
     },
     "execution_count": 35,
     "metadata": {},
     "output_type": "execute_result"
    }
   ],
   "source": [
    "modelo.fit(X_train,y_train)"
   ]
  },
  {
   "cell_type": "code",
   "execution_count": 36,
   "id": "1d98e8a3",
   "metadata": {},
   "outputs": [],
   "source": [
    "# Chequeo scores de train y de test"
   ]
  },
  {
   "cell_type": "code",
   "execution_count": 37,
   "id": "219db54e",
   "metadata": {},
   "outputs": [
    {
     "data": {
      "text/plain": [
       "0.9769959398388213"
      ]
     },
     "execution_count": 37,
     "metadata": {},
     "output_type": "execute_result"
    }
   ],
   "source": [
    "modelo.score(X_train,y_train)"
   ]
  },
  {
   "cell_type": "code",
   "execution_count": 38,
   "id": "0aaf40aa",
   "metadata": {},
   "outputs": [
    {
     "data": {
      "text/plain": [
       "0.8968778386581304"
      ]
     },
     "execution_count": 38,
     "metadata": {},
     "output_type": "execute_result"
    }
   ],
   "source": [
    "modelo.score(X_test,y_test)"
   ]
  },
  {
   "cell_type": "code",
   "execution_count": 39,
   "id": "fb46d6c5",
   "metadata": {},
   "outputs": [
    {
     "name": "stdout",
     "output_type": "stream",
     "text": [
      "[0.82628052 0.85498124 0.83495497 0.83464622 0.84296889] 0.8387663690240617\n"
     ]
    }
   ],
   "source": [
    "cv = ShuffleSplit(n_splits=5, test_size=0.2, random_state=0)\n",
    "lista_promedio = cross_val_score(modelo, X_new, y, cv=cv)\n",
    "promedio = statistics.mean(lista_promedio)\n",
    "print(lista_promedio, promedio)"
   ]
  },
  {
   "cell_type": "markdown",
   "id": "8f4e1ae5",
   "metadata": {},
   "source": [
    "## METRICA SOLICITADA - RMSLE"
   ]
  },
  {
   "cell_type": "code",
   "execution_count": 40,
   "id": "5da99070",
   "metadata": {},
   "outputs": [
    {
     "data": {
      "text/plain": [
       "0.13942716496274601"
      ]
     },
     "execution_count": 40,
     "metadata": {},
     "output_type": "execute_result"
    }
   ],
   "source": [
    "y_predict = modelo.predict(X_test)\n",
    "from sklearn.metrics import mean_squared_log_error\n",
    "mean_squared_log_error(y_test, y_predict)**(0.5)"
   ]
  },
  {
   "cell_type": "markdown",
   "id": "978e763f",
   "metadata": {},
   "source": [
    "## Traspaso de Predicciones a 'houses_test.csv'"
   ]
  },
  {
   "cell_type": "code",
   "execution_count": 48,
   "id": "3954a4d1",
   "metadata": {},
   "outputs": [],
   "source": [
    "housing_test = pd.read_csv(r\"C:\\Users\\usuario\\Desktop\\Proyects\\Proyecto_ML\\Hackathon\\Housing Dreams\\houses_test_raw.csv\")"
   ]
  },
  {
   "cell_type": "markdown",
   "id": "6f3abc9b",
   "metadata": {},
   "source": [
    "# Réplica de mi modelo de ML (Selección de columnas)"
   ]
  },
  {
   "cell_type": "code",
   "execution_count": 49,
   "id": "926140d4",
   "metadata": {},
   "outputs": [],
   "source": [
    "X_new_test = housing_test[['ExterCond','SaleCondition','RoofMatl','GarageArea','LotArea','YearBuilt','OverallCond','OverallQual','FullBath','KitchenAbvGr','BedroomAbvGr','TotRmsAbvGrd','2ndFlrSF','1stFlrSF','MSSubClass','Neighborhood']]"
   ]
  },
  {
   "cell_type": "code",
   "execution_count": 50,
   "id": "ef660084",
   "metadata": {},
   "outputs": [],
   "source": [
    "X_new_test['ExterCond'] = X_new_test['ExterCond'].map({'TA': 1, 'Gd': 2, 'Fa': 3, 'Po': 4, 'Ex': 5})"
   ]
  },
  {
   "cell_type": "code",
   "execution_count": 51,
   "id": "3906edb5",
   "metadata": {},
   "outputs": [],
   "source": [
    "X_new_test['SaleCondition'] = X_new_test['SaleCondition'].map({'Normal': 1, 'Abnorml': 2, 'Partial': 3, 'AdjLand': 4, 'Alloca': 5, 'Family': 6})"
   ]
  },
  {
   "cell_type": "code",
   "execution_count": 52,
   "id": "c7914651",
   "metadata": {
    "scrolled": true
   },
   "outputs": [],
   "source": [
    "listado_roof = X_new_test['RoofMatl'].value_counts()\n",
    "roof_material_menos_15 = listado_roof[listado_roof<=15]\n",
    "X_new_test['RoofMatl'] = X_new_test['RoofMatl'].apply(lambda x: 2 if x in roof_material_menos_15 else 1)"
   ]
  },
  {
   "cell_type": "code",
   "execution_count": 53,
   "id": "534d6e7f",
   "metadata": {},
   "outputs": [],
   "source": [
    "dummies_new = pd.get_dummies(X_new_test['Neighborhood'])"
   ]
  },
  {
   "cell_type": "code",
   "execution_count": 54,
   "id": "bae95b04",
   "metadata": {},
   "outputs": [],
   "source": [
    "X_10 = pd.concat([X_new_test,dummies_new],axis='columns')"
   ]
  },
  {
   "cell_type": "code",
   "execution_count": 55,
   "id": "c9e20a0b",
   "metadata": {},
   "outputs": [],
   "source": [
    "X_10.drop(['Neighborhood'],axis='columns',inplace=True)"
   ]
  },
  {
   "cell_type": "code",
   "execution_count": 56,
   "id": "27a9f078",
   "metadata": {
    "scrolled": true
   },
   "outputs": [],
   "source": [
    "X_10.fillna(X_10['GarageArea'].mean(),inplace=True)"
   ]
  },
  {
   "cell_type": "markdown",
   "id": "78d8431d",
   "metadata": {},
   "source": [
    "***"
   ]
  },
  {
   "cell_type": "markdown",
   "id": "b421656c",
   "metadata": {},
   "source": [
    "## Implementación de mi modelo en archivo 'test', creo archivo .csv. "
   ]
  },
  {
   "cell_type": "code",
   "execution_count": 57,
   "id": "f1dcba6f",
   "metadata": {},
   "outputs": [
    {
     "name": "stdout",
     "output_type": "stream",
     "text": [
      "CSV file has already been created\n"
     ]
    }
   ],
   "source": [
    "directorio = os.listdir(r\"C:\\Users\\usuario\\Desktop\\ML\\Proyecto_ML\")\n",
    "if len(directorio) == 0:\n",
    "    y_p_test = modelo.predict(X_10)\n",
    "    df = pd.DataFrame({'ID': housing_test['Id'], 'Pred': y_p_test})\n",
    "    df.to_csv(r\"C:\\Users\\usuario\\Desktop\\ML\\Proyecto_ML\\pred_test.csv\",index=False)\n",
    "else:\n",
    "    print('CSV file has already been created')"
   ]
  }
 ],
 "metadata": {
  "kernelspec": {
   "display_name": "Python 3 (ipykernel)",
   "language": "python",
   "name": "python3"
  },
  "language_info": {
   "codemirror_mode": {
    "name": "ipython",
    "version": 3
   },
   "file_extension": ".py",
   "mimetype": "text/x-python",
   "name": "python",
   "nbconvert_exporter": "python",
   "pygments_lexer": "ipython3",
   "version": "3.9.7"
  }
 },
 "nbformat": 4,
 "nbformat_minor": 5
}
