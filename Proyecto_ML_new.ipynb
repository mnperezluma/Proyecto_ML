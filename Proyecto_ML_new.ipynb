{
 "cells": [
  {
   "cell_type": "code",
   "execution_count": 1,
   "id": "7503f08c",
   "metadata": {},
   "outputs": [],
   "source": [
    "import pandas as pd\n",
    "import numpy as np\n",
    "from sklearn.model_selection import ShuffleSplit\n",
    "from sklearn.model_selection import cross_val_score\n",
    "import statistics"
   ]
  },
  {
   "cell_type": "code",
   "execution_count": 2,
   "id": "af3130a2",
   "metadata": {},
   "outputs": [],
   "source": [
    "housing_df = pd.read_csv('house_train_raw.csv')"
   ]
  },
  {
   "cell_type": "markdown",
   "id": "dfa52c68",
   "metadata": {},
   "source": [
    "# Reviso la cantidad y con qué columnas cuento"
   ]
  },
  {
   "cell_type": "code",
   "execution_count": 3,
   "id": "32fd6116",
   "metadata": {},
   "outputs": [
    {
     "data": {
      "text/plain": [
       "Index(['Id', 'MSSubClass', 'MSZoning', 'LotFrontage', 'LotArea', 'Street',\n",
       "       'Alley', 'LotShape', 'LandContour', 'Utilities', 'LotConfig',\n",
       "       'LandSlope', 'Neighborhood', 'Condition1', 'Condition2', 'BldgType',\n",
       "       'HouseStyle', 'OverallQual', 'OverallCond', 'YearBuilt', 'YearRemodAdd',\n",
       "       'RoofStyle', 'RoofMatl', 'Exterior1st', 'Exterior2nd', 'MasVnrType',\n",
       "       'MasVnrArea', 'ExterQual', 'ExterCond', 'Foundation', 'BsmtQual',\n",
       "       'BsmtCond', 'BsmtExposure', 'BsmtFinType1', 'BsmtFinSF1',\n",
       "       'BsmtFinType2', 'BsmtFinSF2', 'BsmtUnfSF', 'TotalBsmtSF', 'Heating',\n",
       "       'HeatingQC', 'CentralAir', 'Electrical', '1stFlrSF', '2ndFlrSF',\n",
       "       'LowQualFinSF', 'GrLivArea', 'BsmtFullBath', 'BsmtHalfBath', 'FullBath',\n",
       "       'HalfBath', 'BedroomAbvGr', 'KitchenAbvGr', 'KitchenQual',\n",
       "       'TotRmsAbvGrd', 'Functional', 'Fireplaces', 'FireplaceQu', 'GarageType',\n",
       "       'GarageYrBlt', 'GarageFinish', 'GarageCars', 'GarageArea', 'GarageQual',\n",
       "       'GarageCond', 'PavedDrive', 'WoodDeckSF', 'OpenPorchSF',\n",
       "       'EnclosedPorch', '3SsnPorch', 'ScreenPorch', 'PoolArea', 'PoolQC',\n",
       "       'Fence', 'MiscFeature', 'MiscVal', 'MoSold', 'YrSold', 'SaleType',\n",
       "       'SaleCondition', 'SalePrice'],\n",
       "      dtype='object')"
      ]
     },
     "execution_count": 3,
     "metadata": {},
     "output_type": "execute_result"
    }
   ],
   "source": [
    "housing_df.columns"
   ]
  },
  {
   "cell_type": "markdown",
   "id": "8d93792c",
   "metadata": {},
   "source": [
    "# Realizo EDA sobre columnas que elijo para mi modelo como 'x'"
   ]
  },
  {
   "cell_type": "code",
   "execution_count": 4,
   "id": "9e85b70f",
   "metadata": {},
   "outputs": [],
   "source": [
    "X = housing_df[['ExterCond','SaleCondition','RoofMatl','GarageArea','LotArea','YearBuilt','OverallCond','OverallQual','FullBath','KitchenAbvGr','BedroomAbvGr','TotRmsAbvGrd','2ndFlrSF','1stFlrSF','MSSubClass','Neighborhood']]"
   ]
  },
  {
   "cell_type": "markdown",
   "id": "4fe3bc9b",
   "metadata": {},
   "source": [
    "# Variables Categoricas"
   ]
  },
  {
   "cell_type": "code",
   "execution_count": 7,
   "id": "4e951753",
   "metadata": {},
   "outputs": [],
   "source": [
    "# Trabajo con variables catégoricas en primera instancia. Las cuales son 'ExterCond', 'SaleCondition', 'RoofMatl' y 'Neighborhood'"
   ]
  },
  {
   "cell_type": "code",
   "execution_count": 8,
   "id": "ea92d30a",
   "metadata": {},
   "outputs": [
    {
     "data": {
      "text/plain": [
       "TA    1282\n",
       "Gd     146\n",
       "Fa      28\n",
       "Ex       3\n",
       "Po       1\n",
       "Name: ExterCond, dtype: int64"
      ]
     },
     "execution_count": 8,
     "metadata": {},
     "output_type": "execute_result"
    }
   ],
   "source": [
    "X['ExterCond'].value_counts()"
   ]
  },
  {
   "cell_type": "code",
   "execution_count": 9,
   "id": "4f7740b7",
   "metadata": {},
   "outputs": [
    {
     "data": {
      "text/plain": [
       "array(['TA', 'Gd', 'Fa', 'Po', 'Ex'], dtype=object)"
      ]
     },
     "execution_count": 9,
     "metadata": {},
     "output_type": "execute_result"
    }
   ],
   "source": [
    "X['ExterCond'].unique()"
   ]
  },
  {
   "cell_type": "code",
   "execution_count": 10,
   "id": "d42ef36f",
   "metadata": {},
   "outputs": [
    {
     "name": "stderr",
     "output_type": "stream",
     "text": [
      "C:\\Users\\Public\\Documents\\Wondershare\\CreatorTemp\\ipykernel_17632\\4213422523.py:1: SettingWithCopyWarning: \n",
      "A value is trying to be set on a copy of a slice from a DataFrame.\n",
      "Try using .loc[row_indexer,col_indexer] = value instead\n",
      "\n",
      "See the caveats in the documentation: https://pandas.pydata.org/pandas-docs/stable/user_guide/indexing.html#returning-a-view-versus-a-copy\n",
      "  X['ExterCond'] = X['ExterCond'].map({'TA': 1, 'Gd': 2, 'Fa': 3, 'Po': 4, 'Ex': 5})\n"
     ]
    }
   ],
   "source": [
    "X['ExterCond'] = X['ExterCond'].map({'TA': 1, 'Gd': 2, 'Fa': 3, 'Po': 4, 'Ex': 5})"
   ]
  },
  {
   "cell_type": "code",
   "execution_count": 11,
   "id": "5bcdbad1",
   "metadata": {},
   "outputs": [
    {
     "data": {
      "text/plain": [
       "Normal     1198\n",
       "Partial     125\n",
       "Abnorml     101\n",
       "Family       20\n",
       "Alloca       12\n",
       "AdjLand       4\n",
       "Name: SaleCondition, dtype: int64"
      ]
     },
     "execution_count": 11,
     "metadata": {},
     "output_type": "execute_result"
    }
   ],
   "source": [
    "X['SaleCondition'].value_counts()"
   ]
  },
  {
   "cell_type": "code",
   "execution_count": 12,
   "id": "12feb2f7",
   "metadata": {},
   "outputs": [
    {
     "data": {
      "text/plain": [
       "array(['Normal', 'Abnorml', 'Partial', 'AdjLand', 'Alloca', 'Family'],\n",
       "      dtype=object)"
      ]
     },
     "execution_count": 12,
     "metadata": {},
     "output_type": "execute_result"
    }
   ],
   "source": [
    "X['SaleCondition'].unique()"
   ]
  },
  {
   "cell_type": "code",
   "execution_count": 13,
   "id": "1ce772e1",
   "metadata": {},
   "outputs": [
    {
     "name": "stderr",
     "output_type": "stream",
     "text": [
      "C:\\Users\\Public\\Documents\\Wondershare\\CreatorTemp\\ipykernel_17632\\1294793940.py:1: SettingWithCopyWarning: \n",
      "A value is trying to be set on a copy of a slice from a DataFrame.\n",
      "Try using .loc[row_indexer,col_indexer] = value instead\n",
      "\n",
      "See the caveats in the documentation: https://pandas.pydata.org/pandas-docs/stable/user_guide/indexing.html#returning-a-view-versus-a-copy\n",
      "  X['SaleCondition'] = X['SaleCondition'].map({'Normal': 1, 'Abnorml': 2, 'Partial': 3, 'AdjLand': 4, 'Alloca': 5, 'Family': 6})\n"
     ]
    }
   ],
   "source": [
    "X['SaleCondition'] = X['SaleCondition'].map({'Normal': 1, 'Abnorml': 2, 'Partial': 3, 'AdjLand': 4, 'Alloca': 5, 'Family': 6})"
   ]
  },
  {
   "cell_type": "code",
   "execution_count": 14,
   "id": "01f06802",
   "metadata": {},
   "outputs": [],
   "source": [
    "# En 'RoofMatl', me quedo con solo dos campos para reducir dimensionalidad. "
   ]
  },
  {
   "cell_type": "code",
   "execution_count": 15,
   "id": "a9421c03",
   "metadata": {},
   "outputs": [
    {
     "name": "stderr",
     "output_type": "stream",
     "text": [
      "C:\\Users\\Public\\Documents\\Wondershare\\CreatorTemp\\ipykernel_17632\\1178462949.py:3: SettingWithCopyWarning: \n",
      "A value is trying to be set on a copy of a slice from a DataFrame.\n",
      "Try using .loc[row_indexer,col_indexer] = value instead\n",
      "\n",
      "See the caveats in the documentation: https://pandas.pydata.org/pandas-docs/stable/user_guide/indexing.html#returning-a-view-versus-a-copy\n",
      "  X['RoofMatl'] = X['RoofMatl'].apply(lambda x: 2 if x in roof_material_menos_15 else 1)\n"
     ]
    }
   ],
   "source": [
    "listado_roof = X['RoofMatl'].value_counts()\n",
    "roof_material_menos_15 = listado_roof[listado_roof<=15]\n",
    "X['RoofMatl'] = X['RoofMatl'].apply(lambda x: 2 if x in roof_material_menos_15 else 1)"
   ]
  },
  {
   "cell_type": "code",
   "execution_count": 16,
   "id": "d020293c",
   "metadata": {},
   "outputs": [],
   "source": [
    "# En 'Neighborhood' creo dummies para poder utilizar en mi modelo y mejorar la perfomance. "
   ]
  },
  {
   "cell_type": "code",
   "execution_count": 17,
   "id": "407672e7",
   "metadata": {},
   "outputs": [
    {
     "data": {
      "text/plain": [
       "25"
      ]
     },
     "execution_count": 17,
     "metadata": {},
     "output_type": "execute_result"
    }
   ],
   "source": [
    "len(X['Neighborhood'].unique())"
   ]
  },
  {
   "cell_type": "code",
   "execution_count": 18,
   "id": "7fb74ec1",
   "metadata": {},
   "outputs": [],
   "source": [
    "dummies = pd.get_dummies(X['Neighborhood'])"
   ]
  },
  {
   "cell_type": "code",
   "execution_count": 19,
   "id": "f2dc148a",
   "metadata": {},
   "outputs": [],
   "source": [
    "X_new = pd.concat([X,dummies],axis='columns')"
   ]
  },
  {
   "cell_type": "code",
   "execution_count": 20,
   "id": "68a7c1c7",
   "metadata": {},
   "outputs": [],
   "source": [
    "X_new.drop(['Neighborhood'],axis='columns',inplace=True)"
   ]
  },
  {
   "cell_type": "markdown",
   "id": "b58cb158",
   "metadata": {},
   "source": [
    "## Variables Numericas"
   ]
  },
  {
   "cell_type": "code",
   "execution_count": 21,
   "id": "fef0e31d",
   "metadata": {},
   "outputs": [
    {
     "data": {
      "text/plain": [
       "0      81\n",
       "440    49\n",
       "576    47\n",
       "240    38\n",
       "484    34\n",
       "       ..\n",
       "320     1\n",
       "594     1\n",
       "831     1\n",
       "878     1\n",
       "192     1\n",
       "Name: GarageArea, Length: 441, dtype: int64"
      ]
     },
     "execution_count": 21,
     "metadata": {},
     "output_type": "execute_result"
    }
   ],
   "source": [
    "X_new['GarageArea'].value_counts()"
   ]
  },
  {
   "cell_type": "code",
   "execution_count": 22,
   "id": "0a93985e",
   "metadata": {},
   "outputs": [
    {
     "data": {
      "text/plain": [
       "7200     25\n",
       "9600     24\n",
       "6000     17\n",
       "9000     14\n",
       "8400     14\n",
       "         ..\n",
       "14601     1\n",
       "13682     1\n",
       "4058      1\n",
       "17104     1\n",
       "9717      1\n",
       "Name: LotArea, Length: 1073, dtype: int64"
      ]
     },
     "execution_count": 22,
     "metadata": {},
     "output_type": "execute_result"
    }
   ],
   "source": [
    "X_new['LotArea'].value_counts(ascending=False)"
   ]
  },
  {
   "cell_type": "code",
   "execution_count": 23,
   "id": "85eca128",
   "metadata": {},
   "outputs": [
    {
     "data": {
      "text/plain": [
       "count    1460.000000\n",
       "mean     1971.267808\n",
       "std        30.202904\n",
       "min      1872.000000\n",
       "25%      1954.000000\n",
       "50%      1973.000000\n",
       "75%      2000.000000\n",
       "max      2010.000000\n",
       "Name: YearBuilt, dtype: float64"
      ]
     },
     "execution_count": 23,
     "metadata": {},
     "output_type": "execute_result"
    }
   ],
   "source": [
    "X_new['YearBuilt'].describe()"
   ]
  },
  {
   "cell_type": "code",
   "execution_count": 24,
   "id": "ea161669",
   "metadata": {},
   "outputs": [
    {
     "data": {
      "text/plain": [
       "5    821\n",
       "6    252\n",
       "7    205\n",
       "8     72\n",
       "4     57\n",
       "3     25\n",
       "9     22\n",
       "2      5\n",
       "1      1\n",
       "Name: OverallCond, dtype: int64"
      ]
     },
     "execution_count": 24,
     "metadata": {},
     "output_type": "execute_result"
    }
   ],
   "source": [
    "X_new['OverallCond'].value_counts()"
   ]
  },
  {
   "cell_type": "code",
   "execution_count": 25,
   "id": "0d2f2252",
   "metadata": {},
   "outputs": [
    {
     "data": {
      "text/plain": [
       "5     397\n",
       "6     374\n",
       "7     319\n",
       "8     168\n",
       "4     116\n",
       "9      43\n",
       "3      20\n",
       "10     18\n",
       "2       3\n",
       "1       2\n",
       "Name: OverallQual, dtype: int64"
      ]
     },
     "execution_count": 25,
     "metadata": {},
     "output_type": "execute_result"
    }
   ],
   "source": [
    "X_new['OverallQual'].value_counts()"
   ]
  },
  {
   "cell_type": "code",
   "execution_count": 26,
   "id": "5e91abe9",
   "metadata": {},
   "outputs": [
    {
     "data": {
      "text/plain": [
       "2    768\n",
       "1    650\n",
       "3     33\n",
       "0      9\n",
       "Name: FullBath, dtype: int64"
      ]
     },
     "execution_count": 26,
     "metadata": {},
     "output_type": "execute_result"
    }
   ],
   "source": [
    "X_new['FullBath'].value_counts()"
   ]
  },
  {
   "cell_type": "code",
   "execution_count": 27,
   "id": "cf59bca8",
   "metadata": {},
   "outputs": [
    {
     "data": {
      "text/plain": [
       "1    1392\n",
       "2      65\n",
       "3       2\n",
       "0       1\n",
       "Name: KitchenAbvGr, dtype: int64"
      ]
     },
     "execution_count": 27,
     "metadata": {},
     "output_type": "execute_result"
    }
   ],
   "source": [
    "X_new['KitchenAbvGr'].value_counts()"
   ]
  },
  {
   "cell_type": "code",
   "execution_count": 28,
   "id": "70d251f4",
   "metadata": {},
   "outputs": [
    {
     "data": {
      "text/plain": [
       "3    804\n",
       "2    358\n",
       "4    213\n",
       "1     50\n",
       "5     21\n",
       "6      7\n",
       "0      6\n",
       "8      1\n",
       "Name: BedroomAbvGr, dtype: int64"
      ]
     },
     "execution_count": 28,
     "metadata": {},
     "output_type": "execute_result"
    }
   ],
   "source": [
    "X_new['BedroomAbvGr'].value_counts()"
   ]
  },
  {
   "cell_type": "code",
   "execution_count": 29,
   "id": "56abe14b",
   "metadata": {},
   "outputs": [
    {
     "data": {
      "text/plain": [
       "6     402\n",
       "7     329\n",
       "5     275\n",
       "8     187\n",
       "4      97\n",
       "9      75\n",
       "10     47\n",
       "11     18\n",
       "3      17\n",
       "12     11\n",
       "2       1\n",
       "14      1\n",
       "Name: TotRmsAbvGrd, dtype: int64"
      ]
     },
     "execution_count": 29,
     "metadata": {},
     "output_type": "execute_result"
    }
   ],
   "source": [
    "X_new['TotRmsAbvGrd'].value_counts()"
   ]
  },
  {
   "cell_type": "code",
   "execution_count": 30,
   "id": "aa768ffb",
   "metadata": {},
   "outputs": [
    {
     "data": {
      "text/plain": [
       "count    1460.000000\n",
       "mean      346.992466\n",
       "std       436.528436\n",
       "min         0.000000\n",
       "25%         0.000000\n",
       "50%         0.000000\n",
       "75%       728.000000\n",
       "max      2065.000000\n",
       "Name: 2ndFlrSF, dtype: float64"
      ]
     },
     "execution_count": 30,
     "metadata": {},
     "output_type": "execute_result"
    }
   ],
   "source": [
    "X_new['2ndFlrSF'].describe()"
   ]
  },
  {
   "cell_type": "code",
   "execution_count": 31,
   "id": "6f1f0570",
   "metadata": {},
   "outputs": [
    {
     "data": {
      "text/plain": [
       "count    1460.000000\n",
       "mean     1162.626712\n",
       "std       386.587738\n",
       "min       334.000000\n",
       "25%       882.000000\n",
       "50%      1087.000000\n",
       "75%      1391.250000\n",
       "max      4692.000000\n",
       "Name: 1stFlrSF, dtype: float64"
      ]
     },
     "execution_count": 31,
     "metadata": {},
     "output_type": "execute_result"
    }
   ],
   "source": [
    "X_new['1stFlrSF'].describe()"
   ]
  },
  {
   "cell_type": "markdown",
   "id": "ee398973",
   "metadata": {},
   "source": [
    "## Definicion de la Y"
   ]
  },
  {
   "cell_type": "code",
   "execution_count": 32,
   "id": "3653706a",
   "metadata": {},
   "outputs": [],
   "source": [
    "y = housing_df['SalePrice']"
   ]
  },
  {
   "cell_type": "markdown",
   "id": "df2a3201",
   "metadata": {},
   "source": [
    "## Ejecución del modelo - RandomForestRegressor"
   ]
  },
  {
   "cell_type": "code",
   "execution_count": 33,
   "id": "429cd561",
   "metadata": {},
   "outputs": [],
   "source": [
    "#Separo mi modelo en train and test, en un 0.8 y 0.2 respectivamente"
   ]
  },
  {
   "cell_type": "code",
   "execution_count": 42,
   "id": "5f2d5962",
   "metadata": {},
   "outputs": [],
   "source": [
    "from sklearn.model_selection import train_test_split\n",
    "X_train,X_test,y_train,y_test = train_test_split(X_new,y,test_size=0.2)"
   ]
  },
  {
   "cell_type": "code",
   "execution_count": 43,
   "id": "78c29121",
   "metadata": {},
   "outputs": [],
   "source": [
    "# Creo mi modelo a utilizar y lo pongo a entrenar"
   ]
  },
  {
   "cell_type": "code",
   "execution_count": 44,
   "id": "8b91b5a4",
   "metadata": {},
   "outputs": [],
   "source": [
    "from sklearn.ensemble import RandomForestRegressor\n",
    "modelo = RandomForestRegressor(max_depth=30)"
   ]
  },
  {
   "cell_type": "code",
   "execution_count": 45,
   "id": "8f8156dc",
   "metadata": {},
   "outputs": [
    {
     "data": {
      "text/plain": [
       "RandomForestRegressor(max_depth=30)"
      ]
     },
     "execution_count": 45,
     "metadata": {},
     "output_type": "execute_result"
    }
   ],
   "source": [
    "modelo.fit(X_train,y_train)"
   ]
  },
  {
   "cell_type": "code",
   "execution_count": 46,
   "id": "1d98e8a3",
   "metadata": {},
   "outputs": [],
   "source": [
    "# Chequeo scores de train y de test"
   ]
  },
  {
   "cell_type": "code",
   "execution_count": 47,
   "id": "219db54e",
   "metadata": {},
   "outputs": [
    {
     "data": {
      "text/plain": [
       "0.9760015052111688"
      ]
     },
     "execution_count": 47,
     "metadata": {},
     "output_type": "execute_result"
    }
   ],
   "source": [
    "modelo.score(X_train,y_train)"
   ]
  },
  {
   "cell_type": "code",
   "execution_count": 48,
   "id": "0aaf40aa",
   "metadata": {},
   "outputs": [
    {
     "data": {
      "text/plain": [
       "0.8617641614212408"
      ]
     },
     "execution_count": 48,
     "metadata": {},
     "output_type": "execute_result"
    }
   ],
   "source": [
    "modelo.score(X_test,y_test)"
   ]
  },
  {
   "cell_type": "code",
   "execution_count": 50,
   "id": "fb46d6c5",
   "metadata": {},
   "outputs": [
    {
     "name": "stdout",
     "output_type": "stream",
     "text": [
      "[0.82482124 0.83971921 0.81913545 0.83890337 0.83911506] 0.832338868021541\n"
     ]
    }
   ],
   "source": [
    "cv = ShuffleSplit(n_splits=5, test_size=0.2, random_state=0)\n",
    "lista_promedio = cross_val_score(modelo, X_new, y, cv=cv)\n",
    "promedio = statistics.mean(lista_promedio)\n",
    "print(lista_promedio, promedio)"
   ]
  },
  {
   "cell_type": "markdown",
   "id": "8f4e1ae5",
   "metadata": {},
   "source": [
    "## METRICA SOLICITADA"
   ]
  },
  {
   "cell_type": "code",
   "execution_count": 51,
   "id": "5da99070",
   "metadata": {},
   "outputs": [
    {
     "data": {
      "text/plain": [
       "0.018818396216018905"
      ]
     },
     "execution_count": 51,
     "metadata": {},
     "output_type": "execute_result"
    }
   ],
   "source": [
    "y_predict = modelo.predict(X_test)\n",
    "from sklearn.metrics import mean_squared_log_error\n",
    "mean_squared_log_error(y_test, y_predict)"
   ]
  },
  {
   "cell_type": "code",
   "execution_count": 53,
   "id": "77d60357",
   "metadata": {},
   "outputs": [],
   "source": [
    "df = pd.DataFrame(y_predict)"
   ]
  },
  {
   "cell_type": "code",
   "execution_count": 55,
   "id": "b400e4e0",
   "metadata": {},
   "outputs": [],
   "source": [
    "df.rename(columns={0:'Pred'},inplace=True)"
   ]
  },
  {
   "cell_type": "code",
   "execution_count": 59,
   "id": "5f878844",
   "metadata": {},
   "outputs": [],
   "source": [
    "df.to_csv(r\"C:\\Users\\usuario\\Desktop\\ML\\Proyecto_ML\\pred_test.csv\",index=False)"
   ]
  },
  {
   "cell_type": "code",
   "execution_count": null,
   "id": "d4bed4c9",
   "metadata": {},
   "outputs": [],
   "source": []
  }
 ],
 "metadata": {
  "kernelspec": {
   "display_name": "Python 3 (ipykernel)",
   "language": "python",
   "name": "python3"
  },
  "language_info": {
   "codemirror_mode": {
    "name": "ipython",
    "version": 3
   },
   "file_extension": ".py",
   "mimetype": "text/x-python",
   "name": "python",
   "nbconvert_exporter": "python",
   "pygments_lexer": "ipython3",
   "version": "3.9.7"
  }
 },
 "nbformat": 4,
 "nbformat_minor": 5
}
