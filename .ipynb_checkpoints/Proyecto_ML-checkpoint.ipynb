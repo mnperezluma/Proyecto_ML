{
 "cells": [
  {
   "cell_type": "code",
   "execution_count": 289,
   "id": "46f7615d",
   "metadata": {},
   "outputs": [],
   "source": [
    "import pandas as pd\n",
    "import numpy as np\n",
    "from sklearn.model_selection import ShuffleSplit\n",
    "from sklearn.model_selection import cross_val_score\n",
    "import statistics\n",
    "from sklearn.metrics import confusion_matrix"
   ]
  },
  {
   "cell_type": "code",
   "execution_count": 290,
   "id": "e7c0647a",
   "metadata": {},
   "outputs": [],
   "source": [
    "housing_df = pd.read_csv('house_train_raw.csv')"
   ]
  },
  {
   "cell_type": "code",
   "execution_count": 291,
   "id": "a7652f15",
   "metadata": {},
   "outputs": [
    {
     "data": {
      "text/html": [
       "<div>\n",
       "<style scoped>\n",
       "    .dataframe tbody tr th:only-of-type {\n",
       "        vertical-align: middle;\n",
       "    }\n",
       "\n",
       "    .dataframe tbody tr th {\n",
       "        vertical-align: top;\n",
       "    }\n",
       "\n",
       "    .dataframe thead th {\n",
       "        text-align: right;\n",
       "    }\n",
       "</style>\n",
       "<table border=\"1\" class=\"dataframe\">\n",
       "  <thead>\n",
       "    <tr style=\"text-align: right;\">\n",
       "      <th></th>\n",
       "      <th>Id</th>\n",
       "      <th>MSSubClass</th>\n",
       "      <th>LotFrontage</th>\n",
       "      <th>LotArea</th>\n",
       "      <th>OverallQual</th>\n",
       "      <th>OverallCond</th>\n",
       "      <th>YearBuilt</th>\n",
       "      <th>YearRemodAdd</th>\n",
       "      <th>MasVnrArea</th>\n",
       "      <th>BsmtFinSF1</th>\n",
       "      <th>...</th>\n",
       "      <th>WoodDeckSF</th>\n",
       "      <th>OpenPorchSF</th>\n",
       "      <th>EnclosedPorch</th>\n",
       "      <th>3SsnPorch</th>\n",
       "      <th>ScreenPorch</th>\n",
       "      <th>PoolArea</th>\n",
       "      <th>MiscVal</th>\n",
       "      <th>MoSold</th>\n",
       "      <th>YrSold</th>\n",
       "      <th>SalePrice</th>\n",
       "    </tr>\n",
       "  </thead>\n",
       "  <tbody>\n",
       "    <tr>\n",
       "      <th>count</th>\n",
       "      <td>1460.000000</td>\n",
       "      <td>1460.000000</td>\n",
       "      <td>1201.000000</td>\n",
       "      <td>1460.000000</td>\n",
       "      <td>1460.000000</td>\n",
       "      <td>1460.000000</td>\n",
       "      <td>1460.000000</td>\n",
       "      <td>1460.000000</td>\n",
       "      <td>1452.000000</td>\n",
       "      <td>1460.000000</td>\n",
       "      <td>...</td>\n",
       "      <td>1460.000000</td>\n",
       "      <td>1460.000000</td>\n",
       "      <td>1460.000000</td>\n",
       "      <td>1460.000000</td>\n",
       "      <td>1460.000000</td>\n",
       "      <td>1460.000000</td>\n",
       "      <td>1460.000000</td>\n",
       "      <td>1460.000000</td>\n",
       "      <td>1460.000000</td>\n",
       "      <td>1460.000000</td>\n",
       "    </tr>\n",
       "    <tr>\n",
       "      <th>mean</th>\n",
       "      <td>730.500000</td>\n",
       "      <td>56.897260</td>\n",
       "      <td>70.049958</td>\n",
       "      <td>10516.828082</td>\n",
       "      <td>6.099315</td>\n",
       "      <td>5.575342</td>\n",
       "      <td>1971.267808</td>\n",
       "      <td>1984.865753</td>\n",
       "      <td>103.685262</td>\n",
       "      <td>443.639726</td>\n",
       "      <td>...</td>\n",
       "      <td>94.244521</td>\n",
       "      <td>46.660274</td>\n",
       "      <td>21.954110</td>\n",
       "      <td>3.409589</td>\n",
       "      <td>15.060959</td>\n",
       "      <td>2.758904</td>\n",
       "      <td>43.489041</td>\n",
       "      <td>6.321918</td>\n",
       "      <td>2007.815753</td>\n",
       "      <td>180921.195890</td>\n",
       "    </tr>\n",
       "    <tr>\n",
       "      <th>std</th>\n",
       "      <td>421.610009</td>\n",
       "      <td>42.300571</td>\n",
       "      <td>24.284752</td>\n",
       "      <td>9981.264932</td>\n",
       "      <td>1.382997</td>\n",
       "      <td>1.112799</td>\n",
       "      <td>30.202904</td>\n",
       "      <td>20.645407</td>\n",
       "      <td>181.066207</td>\n",
       "      <td>456.098091</td>\n",
       "      <td>...</td>\n",
       "      <td>125.338794</td>\n",
       "      <td>66.256028</td>\n",
       "      <td>61.119149</td>\n",
       "      <td>29.317331</td>\n",
       "      <td>55.757415</td>\n",
       "      <td>40.177307</td>\n",
       "      <td>496.123024</td>\n",
       "      <td>2.703626</td>\n",
       "      <td>1.328095</td>\n",
       "      <td>79442.502883</td>\n",
       "    </tr>\n",
       "    <tr>\n",
       "      <th>min</th>\n",
       "      <td>1.000000</td>\n",
       "      <td>20.000000</td>\n",
       "      <td>21.000000</td>\n",
       "      <td>1300.000000</td>\n",
       "      <td>1.000000</td>\n",
       "      <td>1.000000</td>\n",
       "      <td>1872.000000</td>\n",
       "      <td>1950.000000</td>\n",
       "      <td>0.000000</td>\n",
       "      <td>0.000000</td>\n",
       "      <td>...</td>\n",
       "      <td>0.000000</td>\n",
       "      <td>0.000000</td>\n",
       "      <td>0.000000</td>\n",
       "      <td>0.000000</td>\n",
       "      <td>0.000000</td>\n",
       "      <td>0.000000</td>\n",
       "      <td>0.000000</td>\n",
       "      <td>1.000000</td>\n",
       "      <td>2006.000000</td>\n",
       "      <td>34900.000000</td>\n",
       "    </tr>\n",
       "    <tr>\n",
       "      <th>25%</th>\n",
       "      <td>365.750000</td>\n",
       "      <td>20.000000</td>\n",
       "      <td>59.000000</td>\n",
       "      <td>7553.500000</td>\n",
       "      <td>5.000000</td>\n",
       "      <td>5.000000</td>\n",
       "      <td>1954.000000</td>\n",
       "      <td>1967.000000</td>\n",
       "      <td>0.000000</td>\n",
       "      <td>0.000000</td>\n",
       "      <td>...</td>\n",
       "      <td>0.000000</td>\n",
       "      <td>0.000000</td>\n",
       "      <td>0.000000</td>\n",
       "      <td>0.000000</td>\n",
       "      <td>0.000000</td>\n",
       "      <td>0.000000</td>\n",
       "      <td>0.000000</td>\n",
       "      <td>5.000000</td>\n",
       "      <td>2007.000000</td>\n",
       "      <td>129975.000000</td>\n",
       "    </tr>\n",
       "    <tr>\n",
       "      <th>50%</th>\n",
       "      <td>730.500000</td>\n",
       "      <td>50.000000</td>\n",
       "      <td>69.000000</td>\n",
       "      <td>9478.500000</td>\n",
       "      <td>6.000000</td>\n",
       "      <td>5.000000</td>\n",
       "      <td>1973.000000</td>\n",
       "      <td>1994.000000</td>\n",
       "      <td>0.000000</td>\n",
       "      <td>383.500000</td>\n",
       "      <td>...</td>\n",
       "      <td>0.000000</td>\n",
       "      <td>25.000000</td>\n",
       "      <td>0.000000</td>\n",
       "      <td>0.000000</td>\n",
       "      <td>0.000000</td>\n",
       "      <td>0.000000</td>\n",
       "      <td>0.000000</td>\n",
       "      <td>6.000000</td>\n",
       "      <td>2008.000000</td>\n",
       "      <td>163000.000000</td>\n",
       "    </tr>\n",
       "    <tr>\n",
       "      <th>75%</th>\n",
       "      <td>1095.250000</td>\n",
       "      <td>70.000000</td>\n",
       "      <td>80.000000</td>\n",
       "      <td>11601.500000</td>\n",
       "      <td>7.000000</td>\n",
       "      <td>6.000000</td>\n",
       "      <td>2000.000000</td>\n",
       "      <td>2004.000000</td>\n",
       "      <td>166.000000</td>\n",
       "      <td>712.250000</td>\n",
       "      <td>...</td>\n",
       "      <td>168.000000</td>\n",
       "      <td>68.000000</td>\n",
       "      <td>0.000000</td>\n",
       "      <td>0.000000</td>\n",
       "      <td>0.000000</td>\n",
       "      <td>0.000000</td>\n",
       "      <td>0.000000</td>\n",
       "      <td>8.000000</td>\n",
       "      <td>2009.000000</td>\n",
       "      <td>214000.000000</td>\n",
       "    </tr>\n",
       "    <tr>\n",
       "      <th>max</th>\n",
       "      <td>1460.000000</td>\n",
       "      <td>190.000000</td>\n",
       "      <td>313.000000</td>\n",
       "      <td>215245.000000</td>\n",
       "      <td>10.000000</td>\n",
       "      <td>9.000000</td>\n",
       "      <td>2010.000000</td>\n",
       "      <td>2010.000000</td>\n",
       "      <td>1600.000000</td>\n",
       "      <td>5644.000000</td>\n",
       "      <td>...</td>\n",
       "      <td>857.000000</td>\n",
       "      <td>547.000000</td>\n",
       "      <td>552.000000</td>\n",
       "      <td>508.000000</td>\n",
       "      <td>480.000000</td>\n",
       "      <td>738.000000</td>\n",
       "      <td>15500.000000</td>\n",
       "      <td>12.000000</td>\n",
       "      <td>2010.000000</td>\n",
       "      <td>755000.000000</td>\n",
       "    </tr>\n",
       "  </tbody>\n",
       "</table>\n",
       "<p>8 rows × 38 columns</p>\n",
       "</div>"
      ],
      "text/plain": [
       "                Id   MSSubClass  LotFrontage        LotArea  OverallQual  \\\n",
       "count  1460.000000  1460.000000  1201.000000    1460.000000  1460.000000   \n",
       "mean    730.500000    56.897260    70.049958   10516.828082     6.099315   \n",
       "std     421.610009    42.300571    24.284752    9981.264932     1.382997   \n",
       "min       1.000000    20.000000    21.000000    1300.000000     1.000000   \n",
       "25%     365.750000    20.000000    59.000000    7553.500000     5.000000   \n",
       "50%     730.500000    50.000000    69.000000    9478.500000     6.000000   \n",
       "75%    1095.250000    70.000000    80.000000   11601.500000     7.000000   \n",
       "max    1460.000000   190.000000   313.000000  215245.000000    10.000000   \n",
       "\n",
       "       OverallCond    YearBuilt  YearRemodAdd   MasVnrArea   BsmtFinSF1  ...  \\\n",
       "count  1460.000000  1460.000000   1460.000000  1452.000000  1460.000000  ...   \n",
       "mean      5.575342  1971.267808   1984.865753   103.685262   443.639726  ...   \n",
       "std       1.112799    30.202904     20.645407   181.066207   456.098091  ...   \n",
       "min       1.000000  1872.000000   1950.000000     0.000000     0.000000  ...   \n",
       "25%       5.000000  1954.000000   1967.000000     0.000000     0.000000  ...   \n",
       "50%       5.000000  1973.000000   1994.000000     0.000000   383.500000  ...   \n",
       "75%       6.000000  2000.000000   2004.000000   166.000000   712.250000  ...   \n",
       "max       9.000000  2010.000000   2010.000000  1600.000000  5644.000000  ...   \n",
       "\n",
       "        WoodDeckSF  OpenPorchSF  EnclosedPorch    3SsnPorch  ScreenPorch  \\\n",
       "count  1460.000000  1460.000000    1460.000000  1460.000000  1460.000000   \n",
       "mean     94.244521    46.660274      21.954110     3.409589    15.060959   \n",
       "std     125.338794    66.256028      61.119149    29.317331    55.757415   \n",
       "min       0.000000     0.000000       0.000000     0.000000     0.000000   \n",
       "25%       0.000000     0.000000       0.000000     0.000000     0.000000   \n",
       "50%       0.000000    25.000000       0.000000     0.000000     0.000000   \n",
       "75%     168.000000    68.000000       0.000000     0.000000     0.000000   \n",
       "max     857.000000   547.000000     552.000000   508.000000   480.000000   \n",
       "\n",
       "          PoolArea       MiscVal       MoSold       YrSold      SalePrice  \n",
       "count  1460.000000   1460.000000  1460.000000  1460.000000    1460.000000  \n",
       "mean      2.758904     43.489041     6.321918  2007.815753  180921.195890  \n",
       "std      40.177307    496.123024     2.703626     1.328095   79442.502883  \n",
       "min       0.000000      0.000000     1.000000  2006.000000   34900.000000  \n",
       "25%       0.000000      0.000000     5.000000  2007.000000  129975.000000  \n",
       "50%       0.000000      0.000000     6.000000  2008.000000  163000.000000  \n",
       "75%       0.000000      0.000000     8.000000  2009.000000  214000.000000  \n",
       "max     738.000000  15500.000000    12.000000  2010.000000  755000.000000  \n",
       "\n",
       "[8 rows x 38 columns]"
      ]
     },
     "execution_count": 291,
     "metadata": {},
     "output_type": "execute_result"
    }
   ],
   "source": [
    "housing_df.describe()"
   ]
  },
  {
   "cell_type": "code",
   "execution_count": 292,
   "id": "f3472e5e",
   "metadata": {},
   "outputs": [
    {
     "data": {
      "text/plain": [
       "PoolQC         1453\n",
       "MiscFeature    1406\n",
       "Alley          1369\n",
       "Fence          1179\n",
       "FireplaceQu     690\n",
       "               ... \n",
       "ExterQual         0\n",
       "Exterior2nd       0\n",
       "Exterior1st       0\n",
       "RoofMatl          0\n",
       "SalePrice         0\n",
       "Length: 81, dtype: int64"
      ]
     },
     "execution_count": 292,
     "metadata": {},
     "output_type": "execute_result"
    }
   ],
   "source": [
    "housing_df.isna().sum().sort_values(ascending=False)"
   ]
  },
  {
   "cell_type": "code",
   "execution_count": 293,
   "id": "267077bd",
   "metadata": {},
   "outputs": [],
   "source": [
    "## Predecimos los precios de las casas. "
   ]
  },
  {
   "cell_type": "code",
   "execution_count": 294,
   "id": "e30f4f05",
   "metadata": {
    "scrolled": true
   },
   "outputs": [
    {
     "data": {
      "text/plain": [
       "0       208500\n",
       "1       181500\n",
       "2       223500\n",
       "3       140000\n",
       "4       250000\n",
       "         ...  \n",
       "1455    175000\n",
       "1456    210000\n",
       "1457    266500\n",
       "1458    142125\n",
       "1459    147500\n",
       "Name: SalePrice, Length: 1460, dtype: int64"
      ]
     },
     "execution_count": 294,
     "metadata": {},
     "output_type": "execute_result"
    }
   ],
   "source": [
    "housing_df['SalePrice']"
   ]
  },
  {
   "cell_type": "code",
   "execution_count": 295,
   "id": "1a95fce6",
   "metadata": {},
   "outputs": [
    {
     "data": {
      "text/plain": [
       "Index(['Id', 'MSSubClass', 'MSZoning', 'LotFrontage', 'LotArea', 'Street',\n",
       "       'Alley', 'LotShape', 'LandContour', 'Utilities', 'LotConfig',\n",
       "       'LandSlope', 'Neighborhood', 'Condition1', 'Condition2', 'BldgType',\n",
       "       'HouseStyle', 'OverallQual', 'OverallCond', 'YearBuilt', 'YearRemodAdd',\n",
       "       'RoofStyle', 'RoofMatl', 'Exterior1st', 'Exterior2nd', 'MasVnrType',\n",
       "       'MasVnrArea', 'ExterQual', 'ExterCond', 'Foundation', 'BsmtQual',\n",
       "       'BsmtCond', 'BsmtExposure', 'BsmtFinType1', 'BsmtFinSF1',\n",
       "       'BsmtFinType2', 'BsmtFinSF2', 'BsmtUnfSF', 'TotalBsmtSF', 'Heating',\n",
       "       'HeatingQC', 'CentralAir', 'Electrical', '1stFlrSF', '2ndFlrSF',\n",
       "       'LowQualFinSF', 'GrLivArea', 'BsmtFullBath', 'BsmtHalfBath', 'FullBath',\n",
       "       'HalfBath', 'BedroomAbvGr', 'KitchenAbvGr', 'KitchenQual',\n",
       "       'TotRmsAbvGrd', 'Functional', 'Fireplaces', 'FireplaceQu', 'GarageType',\n",
       "       'GarageYrBlt', 'GarageFinish', 'GarageCars', 'GarageArea', 'GarageQual',\n",
       "       'GarageCond', 'PavedDrive', 'WoodDeckSF', 'OpenPorchSF',\n",
       "       'EnclosedPorch', '3SsnPorch', 'ScreenPorch', 'PoolArea', 'PoolQC',\n",
       "       'Fence', 'MiscFeature', 'MiscVal', 'MoSold', 'YrSold', 'SaleType',\n",
       "       'SaleCondition', 'SalePrice'],\n",
       "      dtype='object')"
      ]
     },
     "execution_count": 295,
     "metadata": {},
     "output_type": "execute_result"
    }
   ],
   "source": [
    "housing_df.columns"
   ]
  },
  {
   "cell_type": "code",
   "execution_count": 296,
   "id": "be38e7b3",
   "metadata": {},
   "outputs": [
    {
     "data": {
      "text/plain": [
       "HeatingQC       False\n",
       "MasVnrArea      False\n",
       "ExterQual       False\n",
       "Functional      False\n",
       "Foundation      False\n",
       "                ...  \n",
       "HalfBath         True\n",
       "BedroomAbvGr     True\n",
       "KitchenAbvGr     True\n",
       "1stFlrSF         True\n",
       "SalePrice        True\n",
       "Length: 81, dtype: bool"
      ]
     },
     "execution_count": 296,
     "metadata": {},
     "output_type": "execute_result"
    }
   ],
   "source": [
    "(housing_df.dtypes == 'int64').sort_values()"
   ]
  },
  {
   "cell_type": "code",
   "execution_count": 297,
   "id": "0fb75c59",
   "metadata": {},
   "outputs": [
    {
     "data": {
      "text/plain": [
       "0        Normal\n",
       "1        Normal\n",
       "2        Normal\n",
       "3       Abnorml\n",
       "4        Normal\n",
       "         ...   \n",
       "1455     Normal\n",
       "1456     Normal\n",
       "1457     Normal\n",
       "1458     Normal\n",
       "1459     Normal\n",
       "Name: SaleCondition, Length: 1460, dtype: object"
      ]
     },
     "execution_count": 297,
     "metadata": {},
     "output_type": "execute_result"
    }
   ],
   "source": [
    "housing_df['SaleCondition']"
   ]
  },
  {
   "cell_type": "code",
   "execution_count": 298,
   "id": "923d2aea",
   "metadata": {},
   "outputs": [
    {
     "data": {
      "text/html": [
       "<div>\n",
       "<style scoped>\n",
       "    .dataframe tbody tr th:only-of-type {\n",
       "        vertical-align: middle;\n",
       "    }\n",
       "\n",
       "    .dataframe tbody tr th {\n",
       "        vertical-align: top;\n",
       "    }\n",
       "\n",
       "    .dataframe thead th {\n",
       "        text-align: right;\n",
       "    }\n",
       "</style>\n",
       "<table border=\"1\" class=\"dataframe\">\n",
       "  <thead>\n",
       "    <tr style=\"text-align: right;\">\n",
       "      <th></th>\n",
       "      <th>Id</th>\n",
       "      <th>MSSubClass</th>\n",
       "      <th>MSZoning</th>\n",
       "      <th>LotFrontage</th>\n",
       "      <th>LotArea</th>\n",
       "      <th>Street</th>\n",
       "      <th>Alley</th>\n",
       "      <th>LotShape</th>\n",
       "      <th>LandContour</th>\n",
       "      <th>Utilities</th>\n",
       "      <th>...</th>\n",
       "      <th>PoolArea</th>\n",
       "      <th>PoolQC</th>\n",
       "      <th>Fence</th>\n",
       "      <th>MiscFeature</th>\n",
       "      <th>MiscVal</th>\n",
       "      <th>MoSold</th>\n",
       "      <th>YrSold</th>\n",
       "      <th>SaleType</th>\n",
       "      <th>SaleCondition</th>\n",
       "      <th>SalePrice</th>\n",
       "    </tr>\n",
       "  </thead>\n",
       "  <tbody>\n",
       "    <tr>\n",
       "      <th>0</th>\n",
       "      <td>1</td>\n",
       "      <td>60</td>\n",
       "      <td>RL</td>\n",
       "      <td>65.0</td>\n",
       "      <td>8450</td>\n",
       "      <td>Pave</td>\n",
       "      <td>NaN</td>\n",
       "      <td>Reg</td>\n",
       "      <td>Lvl</td>\n",
       "      <td>AllPub</td>\n",
       "      <td>...</td>\n",
       "      <td>0</td>\n",
       "      <td>NaN</td>\n",
       "      <td>NaN</td>\n",
       "      <td>NaN</td>\n",
       "      <td>0</td>\n",
       "      <td>2</td>\n",
       "      <td>2008</td>\n",
       "      <td>WD</td>\n",
       "      <td>Normal</td>\n",
       "      <td>208500</td>\n",
       "    </tr>\n",
       "    <tr>\n",
       "      <th>1</th>\n",
       "      <td>2</td>\n",
       "      <td>20</td>\n",
       "      <td>RL</td>\n",
       "      <td>80.0</td>\n",
       "      <td>9600</td>\n",
       "      <td>Pave</td>\n",
       "      <td>NaN</td>\n",
       "      <td>Reg</td>\n",
       "      <td>Lvl</td>\n",
       "      <td>AllPub</td>\n",
       "      <td>...</td>\n",
       "      <td>0</td>\n",
       "      <td>NaN</td>\n",
       "      <td>NaN</td>\n",
       "      <td>NaN</td>\n",
       "      <td>0</td>\n",
       "      <td>5</td>\n",
       "      <td>2007</td>\n",
       "      <td>WD</td>\n",
       "      <td>Normal</td>\n",
       "      <td>181500</td>\n",
       "    </tr>\n",
       "    <tr>\n",
       "      <th>2</th>\n",
       "      <td>3</td>\n",
       "      <td>60</td>\n",
       "      <td>RL</td>\n",
       "      <td>68.0</td>\n",
       "      <td>11250</td>\n",
       "      <td>Pave</td>\n",
       "      <td>NaN</td>\n",
       "      <td>IR1</td>\n",
       "      <td>Lvl</td>\n",
       "      <td>AllPub</td>\n",
       "      <td>...</td>\n",
       "      <td>0</td>\n",
       "      <td>NaN</td>\n",
       "      <td>NaN</td>\n",
       "      <td>NaN</td>\n",
       "      <td>0</td>\n",
       "      <td>9</td>\n",
       "      <td>2008</td>\n",
       "      <td>WD</td>\n",
       "      <td>Normal</td>\n",
       "      <td>223500</td>\n",
       "    </tr>\n",
       "    <tr>\n",
       "      <th>3</th>\n",
       "      <td>4</td>\n",
       "      <td>70</td>\n",
       "      <td>RL</td>\n",
       "      <td>60.0</td>\n",
       "      <td>9550</td>\n",
       "      <td>Pave</td>\n",
       "      <td>NaN</td>\n",
       "      <td>IR1</td>\n",
       "      <td>Lvl</td>\n",
       "      <td>AllPub</td>\n",
       "      <td>...</td>\n",
       "      <td>0</td>\n",
       "      <td>NaN</td>\n",
       "      <td>NaN</td>\n",
       "      <td>NaN</td>\n",
       "      <td>0</td>\n",
       "      <td>2</td>\n",
       "      <td>2006</td>\n",
       "      <td>WD</td>\n",
       "      <td>Abnorml</td>\n",
       "      <td>140000</td>\n",
       "    </tr>\n",
       "    <tr>\n",
       "      <th>4</th>\n",
       "      <td>5</td>\n",
       "      <td>60</td>\n",
       "      <td>RL</td>\n",
       "      <td>84.0</td>\n",
       "      <td>14260</td>\n",
       "      <td>Pave</td>\n",
       "      <td>NaN</td>\n",
       "      <td>IR1</td>\n",
       "      <td>Lvl</td>\n",
       "      <td>AllPub</td>\n",
       "      <td>...</td>\n",
       "      <td>0</td>\n",
       "      <td>NaN</td>\n",
       "      <td>NaN</td>\n",
       "      <td>NaN</td>\n",
       "      <td>0</td>\n",
       "      <td>12</td>\n",
       "      <td>2008</td>\n",
       "      <td>WD</td>\n",
       "      <td>Normal</td>\n",
       "      <td>250000</td>\n",
       "    </tr>\n",
       "  </tbody>\n",
       "</table>\n",
       "<p>5 rows × 81 columns</p>\n",
       "</div>"
      ],
      "text/plain": [
       "   Id  MSSubClass MSZoning  LotFrontage  LotArea Street Alley LotShape  \\\n",
       "0   1          60       RL         65.0     8450   Pave   NaN      Reg   \n",
       "1   2          20       RL         80.0     9600   Pave   NaN      Reg   \n",
       "2   3          60       RL         68.0    11250   Pave   NaN      IR1   \n",
       "3   4          70       RL         60.0     9550   Pave   NaN      IR1   \n",
       "4   5          60       RL         84.0    14260   Pave   NaN      IR1   \n",
       "\n",
       "  LandContour Utilities  ... PoolArea PoolQC Fence MiscFeature MiscVal MoSold  \\\n",
       "0         Lvl    AllPub  ...        0    NaN   NaN         NaN       0      2   \n",
       "1         Lvl    AllPub  ...        0    NaN   NaN         NaN       0      5   \n",
       "2         Lvl    AllPub  ...        0    NaN   NaN         NaN       0      9   \n",
       "3         Lvl    AllPub  ...        0    NaN   NaN         NaN       0      2   \n",
       "4         Lvl    AllPub  ...        0    NaN   NaN         NaN       0     12   \n",
       "\n",
       "  YrSold  SaleType  SaleCondition  SalePrice  \n",
       "0   2008        WD         Normal     208500  \n",
       "1   2007        WD         Normal     181500  \n",
       "2   2008        WD         Normal     223500  \n",
       "3   2006        WD        Abnorml     140000  \n",
       "4   2008        WD         Normal     250000  \n",
       "\n",
       "[5 rows x 81 columns]"
      ]
     },
     "execution_count": 298,
     "metadata": {},
     "output_type": "execute_result"
    }
   ],
   "source": [
    "housing_df.head()"
   ]
  },
  {
   "cell_type": "markdown",
   "id": "51041805",
   "metadata": {},
   "source": [
    "## Definición de X"
   ]
  },
  {
   "cell_type": "code",
   "execution_count": 299,
   "id": "e7620fc5",
   "metadata": {},
   "outputs": [
    {
     "data": {
      "text/plain": [
       "array([ 7,  6,  8,  5,  9,  4, 10,  3,  1,  2], dtype=int64)"
      ]
     },
     "execution_count": 299,
     "metadata": {},
     "output_type": "execute_result"
    }
   ],
   "source": [
    "housing_df['OverallQual'].unique()"
   ]
  },
  {
   "cell_type": "code",
   "execution_count": 300,
   "id": "d079e954",
   "metadata": {},
   "outputs": [
    {
     "data": {
      "text/plain": [
       "array([2, 1, 3, 0], dtype=int64)"
      ]
     },
     "execution_count": 300,
     "metadata": {},
     "output_type": "execute_result"
    }
   ],
   "source": [
    "housing_df['FullBath'].unique()"
   ]
  },
  {
   "cell_type": "code",
   "execution_count": 301,
   "id": "04208b1f",
   "metadata": {},
   "outputs": [
    {
     "data": {
      "text/plain": [
       "array([1, 2, 3, 0], dtype=int64)"
      ]
     },
     "execution_count": 301,
     "metadata": {},
     "output_type": "execute_result"
    }
   ],
   "source": [
    "housing_df['KitchenAbvGr'].unique()"
   ]
  },
  {
   "cell_type": "code",
   "execution_count": 302,
   "id": "402f6deb",
   "metadata": {},
   "outputs": [
    {
     "data": {
      "text/plain": [
       "array([3, 4, 1, 2, 0, 5, 6, 8], dtype=int64)"
      ]
     },
     "execution_count": 302,
     "metadata": {},
     "output_type": "execute_result"
    }
   ],
   "source": [
    "housing_df['BedroomAbvGr'].unique()"
   ]
  },
  {
   "cell_type": "code",
   "execution_count": 303,
   "id": "67128a51",
   "metadata": {},
   "outputs": [
    {
     "data": {
      "text/plain": [
       "array([ 8,  6,  7,  9,  5, 11,  4, 10, 12,  3,  2, 14], dtype=int64)"
      ]
     },
     "execution_count": 303,
     "metadata": {},
     "output_type": "execute_result"
    }
   ],
   "source": [
    "housing_df['TotRmsAbvGrd'].unique()"
   ]
  },
  {
   "cell_type": "code",
   "execution_count": 304,
   "id": "993e7c47",
   "metadata": {},
   "outputs": [
    {
     "data": {
      "text/plain": [
       "0"
      ]
     },
     "execution_count": 304,
     "metadata": {},
     "output_type": "execute_result"
    }
   ],
   "source": [
    "housing_df['PoolArea'].isna().sum()"
   ]
  },
  {
   "cell_type": "code",
   "execution_count": 305,
   "id": "ad54fa31",
   "metadata": {},
   "outputs": [
    {
     "data": {
      "text/plain": [
       "array([ 854,    0,  866,  756, 1053,  566,  983,  752, 1142, 1218,  668,\n",
       "       1320,  631,  716,  676,  860, 1519,  530,  808,  977, 1330,  833,\n",
       "        765,  462,  213,  548,  960,  670, 1116,  876,  612, 1031,  881,\n",
       "        790,  755,  592,  939,  520,  639,  656, 1414,  884,  729, 1523,\n",
       "        728,  351,  688,  941, 1032,  848,  836,  475,  739, 1151,  448,\n",
       "        896,  524, 1194,  956, 1070, 1096,  467,  547,  551,  880,  703,\n",
       "        901,  720,  316, 1518,  704, 1178,  754,  601, 1360,  929,  445,\n",
       "        564,  882,  920,  518,  817, 1257,  741,  672, 1306,  504, 1304,\n",
       "       1100,  730,  689,  591,  888, 1020,  828,  700,  842, 1286,  864,\n",
       "        829, 1092,  709,  844, 1106,  596,  807,  625,  649,  698,  840,\n",
       "        780,  568,  795,  648,  975,  702, 1242, 1818, 1121,  371,  804,\n",
       "        325,  809, 1200,  871, 1274, 1347, 1332, 1177, 1080,  695,  167,\n",
       "        915,  576,  605,  862,  495,  403,  838,  517, 1427,  784,  711,\n",
       "        468, 1081,  886,  793,  665,  858,  874,  526,  590,  406, 1157,\n",
       "        299,  936,  438, 1098,  766, 1101, 1028, 1017, 1254,  378, 1160,\n",
       "        682,  110,  600,  678,  834,  384,  512,  930,  868,  224, 1103,\n",
       "        560,  811,  878,  574,  910,  620,  687,  546,  902, 1000,  846,\n",
       "       1067,  914,  660, 1538, 1015, 1237,  611,  707,  527, 1288,  832,\n",
       "        806, 1182, 1040,  439,  717,  511, 1129, 1370,  636,  533,  745,\n",
       "        584,  812,  684,  595,  988,  800,  677,  573, 1066,  778,  661,\n",
       "       1440,  872,  788,  843,  713,  567,  651,  762,  482,  738,  586,\n",
       "        679,  644,  900,  887, 1872, 1281,  472, 1312,  319,  978, 1093,\n",
       "        473,  664, 1540, 1276,  441,  348, 1060,  714,  744, 1203,  783,\n",
       "       1097,  734,  767, 1589,  742,  686, 1128, 1111, 1174,  787, 1072,\n",
       "       1088, 1063,  545,  966,  623,  432,  581,  540,  769, 1051,  761,\n",
       "        779,  514,  455, 1426,  785,  521,  252,  813, 1120, 1037, 1169,\n",
       "       1001, 1215,  928, 1140, 1243,  571, 1196, 1038,  561,  979,  701,\n",
       "        332,  368,  883, 1336, 1141,  634,  912,  798,  985,  826,  831,\n",
       "        750,  456,  602,  855,  336,  408,  980,  998, 1168, 1208,  797,\n",
       "        850,  898, 1054,  895,  954,  772, 1230,  727,  454,  370,  628,\n",
       "        304,  582, 1122, 1134,  885,  640,  580, 1112,  653,  220,  240,\n",
       "       1362,  534,  539,  650,  918,  933,  712, 1796,  971, 1175,  743,\n",
       "        523, 1216, 2065,  272,  685,  776,  630,  984,  875,  913,  464,\n",
       "       1039, 1259,  940,  892,  725,  924,  764,  925, 1479,  192,  589,\n",
       "        992,  903,  430,  748,  587,  994,  950, 1323,  732, 1357,  557,\n",
       "       1296,  390, 1185,  873, 1611,  457,  796,  908,  550,  989,  932,\n",
       "        358, 1392,  349,  691, 1349,  768,  208,  622,  857,  556, 1044,\n",
       "        708,  626,  904,  510, 1104,  830,  981,  870,  694, 1152],\n",
       "      dtype=int64)"
      ]
     },
     "execution_count": 305,
     "metadata": {},
     "output_type": "execute_result"
    }
   ],
   "source": [
    "housing_df['2ndFlrSF'].unique()"
   ]
  },
  {
   "cell_type": "code",
   "execution_count": 306,
   "id": "91a24164",
   "metadata": {},
   "outputs": [
    {
     "data": {
      "text/plain": [
       "array([1, 2, 3, 0], dtype=int64)"
      ]
     },
     "execution_count": 306,
     "metadata": {},
     "output_type": "execute_result"
    }
   ],
   "source": [
    "housing_df['KitchenAbvGr'].unique()"
   ]
  },
  {
   "cell_type": "code",
   "execution_count": 307,
   "id": "9eef8e80",
   "metadata": {},
   "outputs": [
    {
     "data": {
      "text/plain": [
       "array(['TA', 'Gd', 'Fa', 'Po', 'Ex'], dtype=object)"
      ]
     },
     "execution_count": 307,
     "metadata": {},
     "output_type": "execute_result"
    }
   ],
   "source": [
    "housing_df['ExterCond'].unique()"
   ]
  },
  {
   "cell_type": "code",
   "execution_count": 308,
   "id": "270fd8ba",
   "metadata": {},
   "outputs": [
    {
     "data": {
      "text/plain": [
       "array(['Normal', 'Abnorml', 'Partial', 'AdjLand', 'Alloca', 'Family'],\n",
       "      dtype=object)"
      ]
     },
     "execution_count": 308,
     "metadata": {},
     "output_type": "execute_result"
    }
   ],
   "source": [
    "housing_df['SaleCondition'].unique()"
   ]
  },
  {
   "cell_type": "code",
   "execution_count": 309,
   "id": "7a4708b6",
   "metadata": {},
   "outputs": [
    {
     "data": {
      "text/plain": [
       "array(['AllPub', 'NoSeWa'], dtype=object)"
      ]
     },
     "execution_count": 309,
     "metadata": {},
     "output_type": "execute_result"
    }
   ],
   "source": [
    "housing_df['Utilities'].unique()"
   ]
  },
  {
   "cell_type": "code",
   "execution_count": 310,
   "id": "32312c51",
   "metadata": {},
   "outputs": [],
   "source": [
    "X = housing_df[['ExterCond','SaleCondition','Utilities','GarageArea','LotArea','YearBuilt','OverallCond','OverallQual','FullBath','KitchenAbvGr','BedroomAbvGr','TotRmsAbvGrd','PoolArea','2ndFlrSF','1stFlrSF']]"
   ]
  },
  {
   "cell_type": "code",
   "execution_count": 311,
   "id": "e391915d",
   "metadata": {
    "scrolled": true
   },
   "outputs": [
    {
     "data": {
      "text/plain": [
       "ExterCond        object\n",
       "SaleCondition    object\n",
       "Utilities        object\n",
       "GarageArea        int64\n",
       "LotArea           int64\n",
       "YearBuilt         int64\n",
       "OverallCond       int64\n",
       "OverallQual       int64\n",
       "FullBath          int64\n",
       "KitchenAbvGr      int64\n",
       "BedroomAbvGr      int64\n",
       "TotRmsAbvGrd      int64\n",
       "PoolArea          int64\n",
       "2ndFlrSF          int64\n",
       "1stFlrSF          int64\n",
       "dtype: object"
      ]
     },
     "execution_count": 311,
     "metadata": {},
     "output_type": "execute_result"
    }
   ],
   "source": [
    "X.dtypes"
   ]
  },
  {
   "cell_type": "code",
   "execution_count": 312,
   "id": "b96b1f06",
   "metadata": {},
   "outputs": [
    {
     "data": {
      "text/plain": [
       "array(['TA', 'Gd', 'Fa', 'Po', 'Ex'], dtype=object)"
      ]
     },
     "execution_count": 312,
     "metadata": {},
     "output_type": "execute_result"
    }
   ],
   "source": [
    "X['ExterCond'].unique()"
   ]
  },
  {
   "cell_type": "code",
   "execution_count": 313,
   "id": "41410195",
   "metadata": {},
   "outputs": [
    {
     "name": "stderr",
     "output_type": "stream",
     "text": [
      "C:\\Users\\Public\\Documents\\Wondershare\\CreatorTemp\\ipykernel_8932\\4213422523.py:1: SettingWithCopyWarning: \n",
      "A value is trying to be set on a copy of a slice from a DataFrame.\n",
      "Try using .loc[row_indexer,col_indexer] = value instead\n",
      "\n",
      "See the caveats in the documentation: https://pandas.pydata.org/pandas-docs/stable/user_guide/indexing.html#returning-a-view-versus-a-copy\n",
      "  X['ExterCond'] = X['ExterCond'].map({'TA': 1, 'Gd': 2, 'Fa': 3, 'Po': 4, 'Ex': 5})\n"
     ]
    }
   ],
   "source": [
    "X['ExterCond'] = X['ExterCond'].map({'TA': 1, 'Gd': 2, 'Fa': 3, 'Po': 4, 'Ex': 5})"
   ]
  },
  {
   "cell_type": "code",
   "execution_count": 314,
   "id": "4cd0fa80",
   "metadata": {},
   "outputs": [
    {
     "name": "stderr",
     "output_type": "stream",
     "text": [
      "C:\\Users\\Public\\Documents\\Wondershare\\CreatorTemp\\ipykernel_8932\\1294793940.py:1: SettingWithCopyWarning: \n",
      "A value is trying to be set on a copy of a slice from a DataFrame.\n",
      "Try using .loc[row_indexer,col_indexer] = value instead\n",
      "\n",
      "See the caveats in the documentation: https://pandas.pydata.org/pandas-docs/stable/user_guide/indexing.html#returning-a-view-versus-a-copy\n",
      "  X['SaleCondition'] = X['SaleCondition'].map({'Normal': 1, 'Abnorml': 2, 'Partial': 3, 'AdjLand': 4, 'Alloca': 5, 'Family': 6})\n"
     ]
    }
   ],
   "source": [
    "X['SaleCondition'] = X['SaleCondition'].map({'Normal': 1, 'Abnorml': 2, 'Partial': 3, 'AdjLand': 4, 'Alloca': 5, 'Family': 6})"
   ]
  },
  {
   "cell_type": "code",
   "execution_count": 315,
   "id": "d013ca91",
   "metadata": {},
   "outputs": [
    {
     "name": "stderr",
     "output_type": "stream",
     "text": [
      "C:\\Users\\Public\\Documents\\Wondershare\\CreatorTemp\\ipykernel_8932\\757750583.py:1: SettingWithCopyWarning: \n",
      "A value is trying to be set on a copy of a slice from a DataFrame.\n",
      "Try using .loc[row_indexer,col_indexer] = value instead\n",
      "\n",
      "See the caveats in the documentation: https://pandas.pydata.org/pandas-docs/stable/user_guide/indexing.html#returning-a-view-versus-a-copy\n",
      "  X['Utilities'] = X['Utilities'].map({'AllPub': 1, 'NoSeWa': 2})\n"
     ]
    }
   ],
   "source": [
    "X['Utilities'] = X['Utilities'].map({'AllPub': 1, 'NoSeWa': 2})"
   ]
  },
  {
   "cell_type": "code",
   "execution_count": 316,
   "id": "4c7a90c5",
   "metadata": {},
   "outputs": [
    {
     "data": {
      "text/html": [
       "<div>\n",
       "<style scoped>\n",
       "    .dataframe tbody tr th:only-of-type {\n",
       "        vertical-align: middle;\n",
       "    }\n",
       "\n",
       "    .dataframe tbody tr th {\n",
       "        vertical-align: top;\n",
       "    }\n",
       "\n",
       "    .dataframe thead th {\n",
       "        text-align: right;\n",
       "    }\n",
       "</style>\n",
       "<table border=\"1\" class=\"dataframe\">\n",
       "  <thead>\n",
       "    <tr style=\"text-align: right;\">\n",
       "      <th></th>\n",
       "      <th>ExterCond</th>\n",
       "      <th>SaleCondition</th>\n",
       "      <th>Utilities</th>\n",
       "      <th>GarageArea</th>\n",
       "      <th>LotArea</th>\n",
       "      <th>YearBuilt</th>\n",
       "      <th>OverallCond</th>\n",
       "      <th>OverallQual</th>\n",
       "      <th>FullBath</th>\n",
       "      <th>KitchenAbvGr</th>\n",
       "      <th>BedroomAbvGr</th>\n",
       "      <th>TotRmsAbvGrd</th>\n",
       "      <th>PoolArea</th>\n",
       "      <th>2ndFlrSF</th>\n",
       "      <th>1stFlrSF</th>\n",
       "    </tr>\n",
       "  </thead>\n",
       "  <tbody>\n",
       "    <tr>\n",
       "      <th>count</th>\n",
       "      <td>1460.000000</td>\n",
       "      <td>1460.00000</td>\n",
       "      <td>1460.000000</td>\n",
       "      <td>1460.000000</td>\n",
       "      <td>1460.000000</td>\n",
       "      <td>1460.000000</td>\n",
       "      <td>1460.000000</td>\n",
       "      <td>1460.000000</td>\n",
       "      <td>1460.000000</td>\n",
       "      <td>1460.000000</td>\n",
       "      <td>1460.000000</td>\n",
       "      <td>1460.000000</td>\n",
       "      <td>1460.000000</td>\n",
       "      <td>1460.000000</td>\n",
       "      <td>1460.000000</td>\n",
       "    </tr>\n",
       "    <tr>\n",
       "      <th>mean</th>\n",
       "      <td>1.148630</td>\n",
       "      <td>1.35000</td>\n",
       "      <td>1.000685</td>\n",
       "      <td>472.980137</td>\n",
       "      <td>10516.828082</td>\n",
       "      <td>1971.267808</td>\n",
       "      <td>5.575342</td>\n",
       "      <td>6.099315</td>\n",
       "      <td>1.565068</td>\n",
       "      <td>1.046575</td>\n",
       "      <td>2.866438</td>\n",
       "      <td>6.517808</td>\n",
       "      <td>2.758904</td>\n",
       "      <td>346.992466</td>\n",
       "      <td>1162.626712</td>\n",
       "    </tr>\n",
       "    <tr>\n",
       "      <th>std</th>\n",
       "      <td>0.440222</td>\n",
       "      <td>0.88787</td>\n",
       "      <td>0.026171</td>\n",
       "      <td>213.804841</td>\n",
       "      <td>9981.264932</td>\n",
       "      <td>30.202904</td>\n",
       "      <td>1.112799</td>\n",
       "      <td>1.382997</td>\n",
       "      <td>0.550916</td>\n",
       "      <td>0.220338</td>\n",
       "      <td>0.815778</td>\n",
       "      <td>1.625393</td>\n",
       "      <td>40.177307</td>\n",
       "      <td>436.528436</td>\n",
       "      <td>386.587738</td>\n",
       "    </tr>\n",
       "    <tr>\n",
       "      <th>min</th>\n",
       "      <td>1.000000</td>\n",
       "      <td>1.00000</td>\n",
       "      <td>1.000000</td>\n",
       "      <td>0.000000</td>\n",
       "      <td>1300.000000</td>\n",
       "      <td>1872.000000</td>\n",
       "      <td>1.000000</td>\n",
       "      <td>1.000000</td>\n",
       "      <td>0.000000</td>\n",
       "      <td>0.000000</td>\n",
       "      <td>0.000000</td>\n",
       "      <td>2.000000</td>\n",
       "      <td>0.000000</td>\n",
       "      <td>0.000000</td>\n",
       "      <td>334.000000</td>\n",
       "    </tr>\n",
       "    <tr>\n",
       "      <th>25%</th>\n",
       "      <td>1.000000</td>\n",
       "      <td>1.00000</td>\n",
       "      <td>1.000000</td>\n",
       "      <td>334.500000</td>\n",
       "      <td>7553.500000</td>\n",
       "      <td>1954.000000</td>\n",
       "      <td>5.000000</td>\n",
       "      <td>5.000000</td>\n",
       "      <td>1.000000</td>\n",
       "      <td>1.000000</td>\n",
       "      <td>2.000000</td>\n",
       "      <td>5.000000</td>\n",
       "      <td>0.000000</td>\n",
       "      <td>0.000000</td>\n",
       "      <td>882.000000</td>\n",
       "    </tr>\n",
       "    <tr>\n",
       "      <th>50%</th>\n",
       "      <td>1.000000</td>\n",
       "      <td>1.00000</td>\n",
       "      <td>1.000000</td>\n",
       "      <td>480.000000</td>\n",
       "      <td>9478.500000</td>\n",
       "      <td>1973.000000</td>\n",
       "      <td>5.000000</td>\n",
       "      <td>6.000000</td>\n",
       "      <td>2.000000</td>\n",
       "      <td>1.000000</td>\n",
       "      <td>3.000000</td>\n",
       "      <td>6.000000</td>\n",
       "      <td>0.000000</td>\n",
       "      <td>0.000000</td>\n",
       "      <td>1087.000000</td>\n",
       "    </tr>\n",
       "    <tr>\n",
       "      <th>75%</th>\n",
       "      <td>1.000000</td>\n",
       "      <td>1.00000</td>\n",
       "      <td>1.000000</td>\n",
       "      <td>576.000000</td>\n",
       "      <td>11601.500000</td>\n",
       "      <td>2000.000000</td>\n",
       "      <td>6.000000</td>\n",
       "      <td>7.000000</td>\n",
       "      <td>2.000000</td>\n",
       "      <td>1.000000</td>\n",
       "      <td>3.000000</td>\n",
       "      <td>7.000000</td>\n",
       "      <td>0.000000</td>\n",
       "      <td>728.000000</td>\n",
       "      <td>1391.250000</td>\n",
       "    </tr>\n",
       "    <tr>\n",
       "      <th>max</th>\n",
       "      <td>5.000000</td>\n",
       "      <td>6.00000</td>\n",
       "      <td>2.000000</td>\n",
       "      <td>1418.000000</td>\n",
       "      <td>215245.000000</td>\n",
       "      <td>2010.000000</td>\n",
       "      <td>9.000000</td>\n",
       "      <td>10.000000</td>\n",
       "      <td>3.000000</td>\n",
       "      <td>3.000000</td>\n",
       "      <td>8.000000</td>\n",
       "      <td>14.000000</td>\n",
       "      <td>738.000000</td>\n",
       "      <td>2065.000000</td>\n",
       "      <td>4692.000000</td>\n",
       "    </tr>\n",
       "  </tbody>\n",
       "</table>\n",
       "</div>"
      ],
      "text/plain": [
       "         ExterCond  SaleCondition    Utilities   GarageArea        LotArea  \\\n",
       "count  1460.000000     1460.00000  1460.000000  1460.000000    1460.000000   \n",
       "mean      1.148630        1.35000     1.000685   472.980137   10516.828082   \n",
       "std       0.440222        0.88787     0.026171   213.804841    9981.264932   \n",
       "min       1.000000        1.00000     1.000000     0.000000    1300.000000   \n",
       "25%       1.000000        1.00000     1.000000   334.500000    7553.500000   \n",
       "50%       1.000000        1.00000     1.000000   480.000000    9478.500000   \n",
       "75%       1.000000        1.00000     1.000000   576.000000   11601.500000   \n",
       "max       5.000000        6.00000     2.000000  1418.000000  215245.000000   \n",
       "\n",
       "         YearBuilt  OverallCond  OverallQual     FullBath  KitchenAbvGr  \\\n",
       "count  1460.000000  1460.000000  1460.000000  1460.000000   1460.000000   \n",
       "mean   1971.267808     5.575342     6.099315     1.565068      1.046575   \n",
       "std      30.202904     1.112799     1.382997     0.550916      0.220338   \n",
       "min    1872.000000     1.000000     1.000000     0.000000      0.000000   \n",
       "25%    1954.000000     5.000000     5.000000     1.000000      1.000000   \n",
       "50%    1973.000000     5.000000     6.000000     2.000000      1.000000   \n",
       "75%    2000.000000     6.000000     7.000000     2.000000      1.000000   \n",
       "max    2010.000000     9.000000    10.000000     3.000000      3.000000   \n",
       "\n",
       "       BedroomAbvGr  TotRmsAbvGrd     PoolArea     2ndFlrSF     1stFlrSF  \n",
       "count   1460.000000   1460.000000  1460.000000  1460.000000  1460.000000  \n",
       "mean       2.866438      6.517808     2.758904   346.992466  1162.626712  \n",
       "std        0.815778      1.625393    40.177307   436.528436   386.587738  \n",
       "min        0.000000      2.000000     0.000000     0.000000   334.000000  \n",
       "25%        2.000000      5.000000     0.000000     0.000000   882.000000  \n",
       "50%        3.000000      6.000000     0.000000     0.000000  1087.000000  \n",
       "75%        3.000000      7.000000     0.000000   728.000000  1391.250000  \n",
       "max        8.000000     14.000000   738.000000  2065.000000  4692.000000  "
      ]
     },
     "execution_count": 316,
     "metadata": {},
     "output_type": "execute_result"
    }
   ],
   "source": [
    "X.describe()"
   ]
  },
  {
   "cell_type": "markdown",
   "id": "5d65cbab",
   "metadata": {},
   "source": [
    "## Definición de Y"
   ]
  },
  {
   "cell_type": "code",
   "execution_count": 317,
   "id": "38f86428",
   "metadata": {},
   "outputs": [],
   "source": [
    "y = housing_df['SalePrice']"
   ]
  },
  {
   "cell_type": "markdown",
   "id": "e068df96",
   "metadata": {},
   "source": [
    "***"
   ]
  },
  {
   "cell_type": "markdown",
   "id": "2b984d61",
   "metadata": {},
   "source": [
    "## Predición - utilizando DecisionTreeRegressor"
   ]
  },
  {
   "cell_type": "code",
   "execution_count": 318,
   "id": "62925cf5",
   "metadata": {},
   "outputs": [],
   "source": [
    "from sklearn.model_selection import train_test_split"
   ]
  },
  {
   "cell_type": "code",
   "execution_count": 319,
   "id": "e890eb5f",
   "metadata": {},
   "outputs": [],
   "source": [
    "X_train,X_test,y_train,y_test = train_test_split(X,y,test_size=0.2)"
   ]
  },
  {
   "cell_type": "code",
   "execution_count": 320,
   "id": "9ec47d71",
   "metadata": {},
   "outputs": [
    {
     "data": {
      "text/plain": [
       "1168"
      ]
     },
     "execution_count": 320,
     "metadata": {},
     "output_type": "execute_result"
    }
   ],
   "source": [
    "len(X_train)"
   ]
  },
  {
   "cell_type": "code",
   "execution_count": 321,
   "id": "e79d8780",
   "metadata": {},
   "outputs": [
    {
     "data": {
      "text/plain": [
       "292"
      ]
     },
     "execution_count": 321,
     "metadata": {},
     "output_type": "execute_result"
    }
   ],
   "source": [
    "len(X_test)"
   ]
  },
  {
   "cell_type": "code",
   "execution_count": 444,
   "id": "8a0bc65d",
   "metadata": {},
   "outputs": [],
   "source": [
    "from sklearn.tree import DecisionTreeRegressor\n",
    "modelo = DecisionTreeRegressor()"
   ]
  },
  {
   "cell_type": "code",
   "execution_count": 445,
   "id": "68617eda",
   "metadata": {},
   "outputs": [
    {
     "data": {
      "text/plain": [
       "DecisionTreeRegressor()"
      ]
     },
     "execution_count": 445,
     "metadata": {},
     "output_type": "execute_result"
    }
   ],
   "source": [
    "modelo.fit(X_train,y_train)"
   ]
  },
  {
   "cell_type": "code",
   "execution_count": 446,
   "id": "c1d56c2f",
   "metadata": {},
   "outputs": [
    {
     "data": {
      "text/plain": [
       "0.9999952076449528"
      ]
     },
     "execution_count": 446,
     "metadata": {},
     "output_type": "execute_result"
    }
   ],
   "source": [
    "modelo.score(X_train,y_train)"
   ]
  },
  {
   "cell_type": "code",
   "execution_count": 447,
   "id": "0c68c82a",
   "metadata": {},
   "outputs": [
    {
     "data": {
      "text/plain": [
       "0.7633814282720076"
      ]
     },
     "execution_count": 447,
     "metadata": {},
     "output_type": "execute_result"
    }
   ],
   "source": [
    "modelo.score(X_test,y_test)"
   ]
  },
  {
   "cell_type": "code",
   "execution_count": 448,
   "id": "28bcdaab",
   "metadata": {},
   "outputs": [
    {
     "data": {
      "text/plain": [
       "array([[0, 0, 0, ..., 0, 0, 0],\n",
       "       [1, 0, 0, ..., 0, 0, 0],\n",
       "       [0, 0, 0, ..., 0, 0, 0],\n",
       "       ...,\n",
       "       [0, 0, 0, ..., 0, 0, 0],\n",
       "       [0, 0, 0, ..., 0, 0, 0],\n",
       "       [0, 0, 0, ..., 0, 0, 0]], dtype=int64)"
      ]
     },
     "execution_count": 448,
     "metadata": {},
     "output_type": "execute_result"
    }
   ],
   "source": [
    "# Se establece predicción sobre el 'Test'\n",
    "y_predict = modelo.predict(X_test)\n",
    "confmatrix = confusion_matrix(y_predict,y_test)\n",
    "confmatrix"
   ]
  },
  {
   "cell_type": "code",
   "execution_count": 449,
   "id": "eec8f6b7",
   "metadata": {},
   "outputs": [
    {
     "data": {
      "text/plain": [
       "0.04233555418897762"
      ]
     },
     "execution_count": 449,
     "metadata": {},
     "output_type": "execute_result"
    }
   ],
   "source": [
    "from sklearn.metrics import mean_squared_log_error\n",
    "mean_squared_log_error(y_test, y_predict)"
   ]
  },
  {
   "cell_type": "code",
   "execution_count": 450,
   "id": "a9a390a6",
   "metadata": {},
   "outputs": [
    {
     "name": "stdout",
     "output_type": "stream",
     "text": [
      "0.7217221176611588\n"
     ]
    }
   ],
   "source": [
    "cv = ShuffleSplit(n_splits=5, test_size=0.2, random_state=0)\n",
    "lista_promedio = cross_val_score(modelo, X, y, cv=cv)\n",
    "promedio = statistics.mean(lista_promedio)\n",
    "print(promedio)"
   ]
  },
  {
   "cell_type": "markdown",
   "id": "822f7eb5",
   "metadata": {},
   "source": [
    "***"
   ]
  },
  {
   "cell_type": "markdown",
   "id": "be0b8a0f",
   "metadata": {},
   "source": [
    "## Matriz de correlación sobre las variables independientes"
   ]
  },
  {
   "cell_type": "code",
   "execution_count": 328,
   "id": "6cdd0f24",
   "metadata": {},
   "outputs": [],
   "source": [
    "from sklearn.tree import DecisionTreeRegressor"
   ]
  },
  {
   "cell_type": "code",
   "execution_count": 329,
   "id": "085af491",
   "metadata": {},
   "outputs": [],
   "source": [
    "relation = X.corr()"
   ]
  },
  {
   "cell_type": "code",
   "execution_count": 330,
   "id": "ddace9bd",
   "metadata": {},
   "outputs": [],
   "source": [
    "relation_index=relation.index"
   ]
  },
  {
   "cell_type": "code",
   "execution_count": 331,
   "id": "95b013ef",
   "metadata": {},
   "outputs": [],
   "source": [
    "import seaborn as sns"
   ]
  },
  {
   "cell_type": "code",
   "execution_count": 332,
   "id": "23813555",
   "metadata": {},
   "outputs": [
    {
     "data": {
      "text/plain": [
       "<AxesSubplot:>"
      ]
     },
     "execution_count": 332,
     "metadata": {},
     "output_type": "execute_result"
    },
    {
     "data": {
      "image/png": "[encoded data removed]",
      "text/plain": [
       "<Figure size 1080x324 with 2 Axes>"
      ]
     },
     "metadata": {
      "needs_background": "light"
     },
     "output_type": "display_data"
    }
   ],
   "source": [
    "import matplotlib.pyplot as plt\n",
    "plt.figure(figsize=(15,4.5))\n",
    "sns.heatmap(X[relation_index].corr(),annot=True)"
   ]
  },
  {
   "cell_type": "markdown",
   "id": "12d1db64",
   "metadata": {},
   "source": [
    "## Nuevo modelo de entrenamiento: Retoque en los parámetros"
   ]
  },
  {
   "cell_type": "code",
   "execution_count": 451,
   "id": "14fffdc4",
   "metadata": {},
   "outputs": [],
   "source": [
    "modelo_nuevo = DecisionTreeRegressor(max_depth=9,max_features='auto')"
   ]
  },
  {
   "cell_type": "code",
   "execution_count": 452,
   "id": "6fe20095",
   "metadata": {},
   "outputs": [
    {
     "data": {
      "text/plain": [
       "DecisionTreeRegressor(max_depth=9, max_features='auto')"
      ]
     },
     "execution_count": 452,
     "metadata": {},
     "output_type": "execute_result"
    }
   ],
   "source": [
    "modelo_nuevo.fit(X_train,y_train)"
   ]
  },
  {
   "cell_type": "code",
   "execution_count": 453,
   "id": "2c085d44",
   "metadata": {},
   "outputs": [
    {
     "data": {
      "text/plain": [
       "0.9568379185278665"
      ]
     },
     "execution_count": 453,
     "metadata": {},
     "output_type": "execute_result"
    }
   ],
   "source": [
    "modelo_nuevo.score(X_train,y_train)"
   ]
  },
  {
   "cell_type": "code",
   "execution_count": 454,
   "id": "f3d4e7c0",
   "metadata": {},
   "outputs": [
    {
     "data": {
      "text/plain": [
       "0.7477992434989107"
      ]
     },
     "execution_count": 454,
     "metadata": {},
     "output_type": "execute_result"
    }
   ],
   "source": [
    "modelo_nuevo.score(X_test,y_test)"
   ]
  },
  {
   "cell_type": "code",
   "execution_count": 455,
   "id": "0c05ad2b",
   "metadata": {},
   "outputs": [],
   "source": [
    "y_predict2 = modelo_nuevo.predict(X_test)"
   ]
  },
  {
   "cell_type": "markdown",
   "id": "e0c9d073",
   "metadata": {},
   "source": [
    "## RMSLE (Root Mean Squared Log Error)"
   ]
  },
  {
   "cell_type": "code",
   "execution_count": 456,
   "id": "08439def",
   "metadata": {},
   "outputs": [
    {
     "data": {
      "text/plain": [
       "0.03769420306608448"
      ]
     },
     "execution_count": 456,
     "metadata": {},
     "output_type": "execute_result"
    }
   ],
   "source": [
    "from sklearn.metrics import mean_squared_log_error\n",
    "mean_squared_log_error(y_test, y_predict2)"
   ]
  },
  {
   "cell_type": "code",
   "execution_count": 480,
   "id": "27752989",
   "metadata": {},
   "outputs": [],
   "source": [
    "# Hago un promedio de 5 recorridas para saber el promedio. Hasta ahora, mejor modelo tanto por score como por RMSLE."
   ]
  },
  {
   "cell_type": "code",
   "execution_count": 457,
   "id": "f439a5c7",
   "metadata": {},
   "outputs": [
    {
     "name": "stdout",
     "output_type": "stream",
     "text": [
      "0.7268636414123124\n"
     ]
    }
   ],
   "source": [
    "cv = ShuffleSplit(n_splits=5, test_size=0.2, random_state=0)\n",
    "lista_promedio = cross_val_score(modelo_nuevo, X, y, cv=cv)\n",
    "promedio = statistics.mean(lista_promedio)\n",
    "print(promedio)"
   ]
  },
  {
   "cell_type": "markdown",
   "id": "254a5b66",
   "metadata": {},
   "source": [
    "## Implementar GridSearch para comprobar funcionalidad de los parámetros"
   ]
  },
  {
   "cell_type": "code",
   "execution_count": 339,
   "id": "657af935",
   "metadata": {},
   "outputs": [],
   "source": [
    "model_params = {\n",
    "    'tree_regressor': {\n",
    "        'model': DecisionTreeRegressor(),\n",
    "        'params' : {\n",
    "            'max_depth': [1,2,3,4,5],\n",
    "            'max_leaf_nodes': [10,20,30,50],\n",
    "            'max_features': ['auto', 'sqrt', 'log2'],\n",
    "            'splitter':['random','best']\n",
    "        }  \n",
    "    }}"
   ]
  },
  {
   "cell_type": "code",
   "execution_count": 340,
   "id": "e36b939a",
   "metadata": {},
   "outputs": [
    {
     "name": "stdout",
     "output_type": "stream",
     "text": [
      "{'model': DecisionTreeRegressor(), 'params': {'max_depth': [1, 2, 3, 4, 5], 'max_leaf_nodes': [10, 20, 30, 50], 'max_features': ['auto', 'sqrt', 'log2'], 'splitter': ['random', 'best']}}\n"
     ]
    }
   ],
   "source": [
    "for model_name, mp in model_params.items():\n",
    "    print(mp)"
   ]
  },
  {
   "cell_type": "code",
   "execution_count": 341,
   "id": "3d2ade6d",
   "metadata": {},
   "outputs": [
    {
     "name": "stdout",
     "output_type": "stream",
     "text": [
      "{'max_depth': 5, 'max_features': 'log2', 'max_leaf_nodes': 50, 'splitter': 'best'}\n"
     ]
    },
    {
     "data": {
      "text/html": [
       "<div>\n",
       "<style scoped>\n",
       "    .dataframe tbody tr th:only-of-type {\n",
       "        vertical-align: middle;\n",
       "    }\n",
       "\n",
       "    .dataframe tbody tr th {\n",
       "        vertical-align: top;\n",
       "    }\n",
       "\n",
       "    .dataframe thead th {\n",
       "        text-align: right;\n",
       "    }\n",
       "</style>\n",
       "<table border=\"1\" class=\"dataframe\">\n",
       "  <thead>\n",
       "    <tr style=\"text-align: right;\">\n",
       "      <th></th>\n",
       "      <th>model</th>\n",
       "      <th>best_par</th>\n",
       "      <th>best_score</th>\n",
       "    </tr>\n",
       "  </thead>\n",
       "  <tbody>\n",
       "    <tr>\n",
       "      <th>0</th>\n",
       "      <td>tree_regressor</td>\n",
       "      <td>{'max_depth': 5, 'max_features': 'log2', 'max_...</td>\n",
       "      <td>0.72273</td>\n",
       "    </tr>\n",
       "  </tbody>\n",
       "</table>\n",
       "</div>"
      ],
      "text/plain": [
       "            model                                           best_par  \\\n",
       "0  tree_regressor  {'max_depth': 5, 'max_features': 'log2', 'max_...   \n",
       "\n",
       "   best_score  \n",
       "0     0.72273  "
      ]
     },
     "execution_count": 341,
     "metadata": {},
     "output_type": "execute_result"
    }
   ],
   "source": [
    "from sklearn.model_selection import GridSearchCV\n",
    "resultados = []\n",
    "\n",
    "for modelo_nombre, modelo_parametros in model_params.items():\n",
    "    clf = GridSearchCV(modelo_parametros['model'], modelo_parametros['params'], cv=2,return_train_score=False)\n",
    "    clf.fit(X, y)\n",
    "    resultados.append({\n",
    "        'model': modelo_nombre,\n",
    "        'best_par': clf.best_params_, \n",
    "        'best_score': clf.best_score_\n",
    "    }\n",
    "    )\n",
    "    print(clf.best_params_)\n",
    "    \n",
    "df = pd.DataFrame(resultados, columns= ['model', 'best_par', 'best_score'])\n",
    "df"
   ]
  },
  {
   "cell_type": "markdown",
   "id": "f0e156de",
   "metadata": {},
   "source": [
    "## Obtención de r2_score"
   ]
  },
  {
   "cell_type": "code",
   "execution_count": 481,
   "id": "4d044750",
   "metadata": {},
   "outputs": [
    {
     "data": {
      "text/plain": [
       "0.7477992434989107"
      ]
     },
     "execution_count": 481,
     "metadata": {},
     "output_type": "execute_result"
    }
   ],
   "source": [
    "from sklearn.metrics import r2_score\n",
    "r2_score(y_test,y_predict2)"
   ]
  },
  {
   "cell_type": "markdown",
   "id": "f47109d1",
   "metadata": {},
   "source": [
    "## NUEVO MODELO"
   ]
  },
  {
   "cell_type": "code",
   "execution_count": 461,
   "id": "09d217de",
   "metadata": {},
   "outputs": [],
   "source": [
    "from sklearn import linear_model\n",
    "regression = linear_model.LinearRegression()"
   ]
  },
  {
   "cell_type": "code",
   "execution_count": 462,
   "id": "c927d1b2",
   "metadata": {},
   "outputs": [
    {
     "data": {
      "text/plain": [
       "LinearRegression()"
      ]
     },
     "execution_count": 462,
     "metadata": {},
     "output_type": "execute_result"
    }
   ],
   "source": [
    "regression.fit(X,y)"
   ]
  },
  {
   "cell_type": "code",
   "execution_count": 463,
   "id": "4c4cffcd",
   "metadata": {},
   "outputs": [
    {
     "data": {
      "text/plain": [
       "0.7726479467516423"
      ]
     },
     "execution_count": 463,
     "metadata": {},
     "output_type": "execute_result"
    }
   ],
   "source": [
    "regression.score(X_train,y_train)"
   ]
  },
  {
   "cell_type": "code",
   "execution_count": 464,
   "id": "0c953dbf",
   "metadata": {},
   "outputs": [
    {
     "data": {
      "text/plain": [
       "0.8460898383939002"
      ]
     },
     "execution_count": 464,
     "metadata": {},
     "output_type": "execute_result"
    }
   ],
   "source": [
    "regression.score(X_test,y_test)"
   ]
  },
  {
   "cell_type": "code",
   "execution_count": 465,
   "id": "ab0d2c7d",
   "metadata": {},
   "outputs": [],
   "source": [
    "y_regression = regression.predict(X_test)"
   ]
  },
  {
   "cell_type": "code",
   "execution_count": 466,
   "id": "58597656",
   "metadata": {},
   "outputs": [
    {
     "data": {
      "text/plain": [
       "0.03219024844536986"
      ]
     },
     "execution_count": 466,
     "metadata": {},
     "output_type": "execute_result"
    }
   ],
   "source": [
    "from sklearn.metrics import mean_squared_log_error\n",
    "mean_squared_log_error(y_test, y_regression)"
   ]
  },
  {
   "cell_type": "code",
   "execution_count": 467,
   "id": "1ae1a547",
   "metadata": {},
   "outputs": [
    {
     "name": "stdout",
     "output_type": "stream",
     "text": [
      "0.6969790018409802\n"
     ]
    }
   ],
   "source": [
    "cv = ShuffleSplit(n_splits=5, test_size=0.2, random_state=0)\n",
    "lista_promedio = cross_val_score(regression, X, y, cv=cv)\n",
    "promedio = statistics.mean(lista_promedio)\n",
    "print(promedio)"
   ]
  },
  {
   "cell_type": "markdown",
   "id": "53508dda",
   "metadata": {},
   "source": [
    "***"
   ]
  },
  {
   "cell_type": "markdown",
   "id": "cced09c6",
   "metadata": {},
   "source": [
    "## NUEVO MODELO"
   ]
  },
  {
   "cell_type": "code",
   "execution_count": 469,
   "id": "6833fc8a",
   "metadata": {},
   "outputs": [],
   "source": [
    "from sklearn import linear_model\n",
    "clf = linear_model.Lasso(alpha=0.1)"
   ]
  },
  {
   "cell_type": "code",
   "execution_count": 470,
   "id": "634f7e9b",
   "metadata": {},
   "outputs": [
    {
     "data": {
      "text/plain": [
       "Lasso(alpha=0.1)"
      ]
     },
     "execution_count": 470,
     "metadata": {},
     "output_type": "execute_result"
    }
   ],
   "source": [
    "clf.fit(X_train,y_train)"
   ]
  },
  {
   "cell_type": "code",
   "execution_count": 471,
   "id": "802a7dab",
   "metadata": {},
   "outputs": [
    {
     "data": {
      "text/plain": [
       "0.7736687383836757"
      ]
     },
     "execution_count": 471,
     "metadata": {},
     "output_type": "execute_result"
    }
   ],
   "source": [
    "clf.score(X_train,y_train)"
   ]
  },
  {
   "cell_type": "code",
   "execution_count": 472,
   "id": "05396493",
   "metadata": {
    "scrolled": true
   },
   "outputs": [
    {
     "data": {
      "text/plain": [
       "0.837645880467891"
      ]
     },
     "execution_count": 472,
     "metadata": {},
     "output_type": "execute_result"
    }
   ],
   "source": [
    "clf.score(X_test,y_test)"
   ]
  },
  {
   "cell_type": "code",
   "execution_count": 473,
   "id": "91fefacc",
   "metadata": {},
   "outputs": [
    {
     "data": {
      "text/plain": [
       "0.6969799931238194"
      ]
     },
     "execution_count": 473,
     "metadata": {},
     "output_type": "execute_result"
    }
   ],
   "source": [
    "cv = ShuffleSplit(n_splits=5, test_size=0.2, random_state=0)\n",
    "lista_promedio = cross_val_score(clf, X, y, cv=cv)\n",
    "promedio = statistics.mean(lista_promedio)\n",
    "promedio"
   ]
  },
  {
   "cell_type": "code",
   "execution_count": 432,
   "id": "dc68e980",
   "metadata": {},
   "outputs": [
    {
     "name": "stderr",
     "output_type": "stream",
     "text": [
      "C:\\Users\\usuario\\anaconda3\\lib\\site-packages\\sklearn\\linear_model\\_base.py:141: FutureWarning: 'normalize' was deprecated in version 1.0 and will be removed in 1.2.\n",
      "If you wish to scale the data, use Pipeline with a StandardScaler in a preprocessing stage. To reproduce the previous behavior:\n",
      "\n",
      "from sklearn.pipeline import make_pipeline\n",
      "\n",
      "model = make_pipeline(StandardScaler(with_mean=False), LinearRegression())\n",
      "\n",
      "If you wish to pass a sample_weight parameter, you need to pass it as a fit parameter to each step of the pipeline as follows:\n",
      "\n",
      "kwargs = {s[0] + '__sample_weight': sample_weight for s in model.steps}\n",
      "model.fit(X, y, **kwargs)\n",
      "\n",
      "\n",
      "  warnings.warn(\n",
      "C:\\Users\\usuario\\anaconda3\\lib\\site-packages\\sklearn\\linear_model\\_base.py:141: FutureWarning: 'normalize' was deprecated in version 1.0 and will be removed in 1.2.\n",
      "If you wish to scale the data, use Pipeline with a StandardScaler in a preprocessing stage. To reproduce the previous behavior:\n",
      "\n",
      "from sklearn.pipeline import make_pipeline\n",
      "\n",
      "model = make_pipeline(StandardScaler(with_mean=False), LinearRegression())\n",
      "\n",
      "If you wish to pass a sample_weight parameter, you need to pass it as a fit parameter to each step of the pipeline as follows:\n",
      "\n",
      "kwargs = {s[0] + '__sample_weight': sample_weight for s in model.steps}\n",
      "model.fit(X, y, **kwargs)\n",
      "\n",
      "\n",
      "  warnings.warn(\n",
      "C:\\Users\\usuario\\anaconda3\\lib\\site-packages\\sklearn\\linear_model\\_base.py:141: FutureWarning: 'normalize' was deprecated in version 1.0 and will be removed in 1.2.\n",
      "If you wish to scale the data, use Pipeline with a StandardScaler in a preprocessing stage. To reproduce the previous behavior:\n",
      "\n",
      "from sklearn.pipeline import make_pipeline\n",
      "\n",
      "model = make_pipeline(StandardScaler(with_mean=False), LinearRegression())\n",
      "\n",
      "If you wish to pass a sample_weight parameter, you need to pass it as a fit parameter to each step of the pipeline as follows:\n",
      "\n",
      "kwargs = {s[0] + '__sample_weight': sample_weight for s in model.steps}\n",
      "model.fit(X, y, **kwargs)\n",
      "\n",
      "\n",
      "  warnings.warn(\n",
      "C:\\Users\\usuario\\anaconda3\\lib\\site-packages\\sklearn\\linear_model\\_base.py:141: FutureWarning: 'normalize' was deprecated in version 1.0 and will be removed in 1.2.\n",
      "If you wish to scale the data, use Pipeline with a StandardScaler in a preprocessing stage. To reproduce the previous behavior:\n",
      "\n",
      "from sklearn.pipeline import make_pipeline\n",
      "\n",
      "model = make_pipeline(StandardScaler(with_mean=False), LinearRegression())\n",
      "\n",
      "If you wish to pass a sample_weight parameter, you need to pass it as a fit parameter to each step of the pipeline as follows:\n",
      "\n",
      "kwargs = {s[0] + '__sample_weight': sample_weight for s in model.steps}\n",
      "model.fit(X, y, **kwargs)\n",
      "\n",
      "\n",
      "  warnings.warn(\n",
      "C:\\Users\\usuario\\anaconda3\\lib\\site-packages\\sklearn\\linear_model\\_base.py:141: FutureWarning: 'normalize' was deprecated in version 1.0 and will be removed in 1.2.\n",
      "If you wish to scale the data, use Pipeline with a StandardScaler in a preprocessing stage. To reproduce the previous behavior:\n",
      "\n",
      "from sklearn.pipeline import make_pipeline\n",
      "\n",
      "model = make_pipeline(StandardScaler(with_mean=False), LinearRegression())\n",
      "\n",
      "If you wish to pass a sample_weight parameter, you need to pass it as a fit parameter to each step of the pipeline as follows:\n",
      "\n",
      "kwargs = {s[0] + '__sample_weight': sample_weight for s in model.steps}\n",
      "model.fit(X, y, **kwargs)\n",
      "\n",
      "\n",
      "  warnings.warn(\n",
      "C:\\Users\\usuario\\anaconda3\\lib\\site-packages\\sklearn\\linear_model\\_base.py:148: FutureWarning: 'normalize' was deprecated in version 1.0 and will be removed in 1.2. Please leave the normalize parameter to its default value to silence this warning. The default behavior of this estimator is to not do any normalization. If normalization is needed please use sklearn.preprocessing.StandardScaler instead.\n",
      "  warnings.warn(\n",
      "C:\\Users\\usuario\\anaconda3\\lib\\site-packages\\sklearn\\linear_model\\_base.py:148: FutureWarning: 'normalize' was deprecated in version 1.0 and will be removed in 1.2. Please leave the normalize parameter to its default value to silence this warning. The default behavior of this estimator is to not do any normalization. If normalization is needed please use sklearn.preprocessing.StandardScaler instead.\n",
      "  warnings.warn(\n",
      "C:\\Users\\usuario\\anaconda3\\lib\\site-packages\\sklearn\\linear_model\\_base.py:148: FutureWarning: 'normalize' was deprecated in version 1.0 and will be removed in 1.2. Please leave the normalize parameter to its default value to silence this warning. The default behavior of this estimator is to not do any normalization. If normalization is needed please use sklearn.preprocessing.StandardScaler instead.\n",
      "  warnings.warn(\n",
      "C:\\Users\\usuario\\anaconda3\\lib\\site-packages\\sklearn\\linear_model\\_base.py:148: FutureWarning: 'normalize' was deprecated in version 1.0 and will be removed in 1.2. Please leave the normalize parameter to its default value to silence this warning. The default behavior of this estimator is to not do any normalization. If normalization is needed please use sklearn.preprocessing.StandardScaler instead.\n",
      "  warnings.warn(\n",
      "C:\\Users\\usuario\\anaconda3\\lib\\site-packages\\sklearn\\linear_model\\_base.py:148: FutureWarning: 'normalize' was deprecated in version 1.0 and will be removed in 1.2. Please leave the normalize parameter to its default value to silence this warning. The default behavior of this estimator is to not do any normalization. If normalization is needed please use sklearn.preprocessing.StandardScaler instead.\n",
      "  warnings.warn(\n",
      "C:\\Users\\usuario\\anaconda3\\lib\\site-packages\\sklearn\\linear_model\\_base.py:148: FutureWarning: 'normalize' was deprecated in version 1.0 and will be removed in 1.2. Please leave the normalize parameter to its default value to silence this warning. The default behavior of this estimator is to not do any normalization. If normalization is needed please use sklearn.preprocessing.StandardScaler instead.\n",
      "  warnings.warn(\n",
      "C:\\Users\\usuario\\anaconda3\\lib\\site-packages\\sklearn\\tree\\_classes.py:359: FutureWarning: Criterion 'mse' was deprecated in v1.0 and will be removed in version 1.2. Use `criterion='squared_error'` which is equivalent.\n",
      "  warnings.warn(\n",
      "C:\\Users\\usuario\\anaconda3\\lib\\site-packages\\sklearn\\tree\\_classes.py:359: FutureWarning: Criterion 'mse' was deprecated in v1.0 and will be removed in version 1.2. Use `criterion='squared_error'` which is equivalent.\n",
      "  warnings.warn(\n",
      "C:\\Users\\usuario\\anaconda3\\lib\\site-packages\\sklearn\\tree\\_classes.py:359: FutureWarning: Criterion 'mse' was deprecated in v1.0 and will be removed in version 1.2. Use `criterion='squared_error'` which is equivalent.\n",
      "  warnings.warn(\n",
      "C:\\Users\\usuario\\anaconda3\\lib\\site-packages\\sklearn\\tree\\_classes.py:359: FutureWarning: Criterion 'mse' was deprecated in v1.0 and will be removed in version 1.2. Use `criterion='squared_error'` which is equivalent.\n",
      "  warnings.warn(\n",
      "C:\\Users\\usuario\\anaconda3\\lib\\site-packages\\sklearn\\tree\\_classes.py:359: FutureWarning: Criterion 'mse' was deprecated in v1.0 and will be removed in version 1.2. Use `criterion='squared_error'` which is equivalent.\n",
      "  warnings.warn(\n",
      "C:\\Users\\usuario\\anaconda3\\lib\\site-packages\\sklearn\\tree\\_classes.py:359: FutureWarning: Criterion 'mse' was deprecated in v1.0 and will be removed in version 1.2. Use `criterion='squared_error'` which is equivalent.\n",
      "  warnings.warn(\n",
      "C:\\Users\\usuario\\anaconda3\\lib\\site-packages\\sklearn\\tree\\_classes.py:359: FutureWarning: Criterion 'mse' was deprecated in v1.0 and will be removed in version 1.2. Use `criterion='squared_error'` which is equivalent.\n",
      "  warnings.warn(\n",
      "C:\\Users\\usuario\\anaconda3\\lib\\site-packages\\sklearn\\tree\\_classes.py:359: FutureWarning: Criterion 'mse' was deprecated in v1.0 and will be removed in version 1.2. Use `criterion='squared_error'` which is equivalent.\n",
      "  warnings.warn(\n",
      "C:\\Users\\usuario\\anaconda3\\lib\\site-packages\\sklearn\\tree\\_classes.py:359: FutureWarning: Criterion 'mse' was deprecated in v1.0 and will be removed in version 1.2. Use `criterion='squared_error'` which is equivalent.\n",
      "  warnings.warn(\n",
      "C:\\Users\\usuario\\anaconda3\\lib\\site-packages\\sklearn\\tree\\_classes.py:359: FutureWarning: Criterion 'mse' was deprecated in v1.0 and will be removed in version 1.2. Use `criterion='squared_error'` which is equivalent.\n",
      "  warnings.warn(\n"
     ]
    },
    {
     "data": {
      "text/html": [
       "<div>\n",
       "<style scoped>\n",
       "    .dataframe tbody tr th:only-of-type {\n",
       "        vertical-align: middle;\n",
       "    }\n",
       "\n",
       "    .dataframe tbody tr th {\n",
       "        vertical-align: top;\n",
       "    }\n",
       "\n",
       "    .dataframe thead th {\n",
       "        text-align: right;\n",
       "    }\n",
       "</style>\n",
       "<table border=\"1\" class=\"dataframe\">\n",
       "  <thead>\n",
       "    <tr style=\"text-align: right;\">\n",
       "      <th></th>\n",
       "      <th>model</th>\n",
       "      <th>best_score</th>\n",
       "      <th>best_params</th>\n",
       "    </tr>\n",
       "  </thead>\n",
       "  <tbody>\n",
       "    <tr>\n",
       "      <th>0</th>\n",
       "      <td>linear_regression</td>\n",
       "      <td>0.696979</td>\n",
       "      <td>{'normalize': False}</td>\n",
       "    </tr>\n",
       "    <tr>\n",
       "      <th>1</th>\n",
       "      <td>lasso</td>\n",
       "      <td>0.696999</td>\n",
       "      <td>{'alpha': 2, 'selection': 'random'}</td>\n",
       "    </tr>\n",
       "    <tr>\n",
       "      <th>2</th>\n",
       "      <td>decision_tree</td>\n",
       "      <td>0.741391</td>\n",
       "      <td>{'criterion': 'friedman_mse', 'splitter': 'best'}</td>\n",
       "    </tr>\n",
       "  </tbody>\n",
       "</table>\n",
       "</div>"
      ],
      "text/plain": [
       "               model  best_score  \\\n",
       "0  linear_regression    0.696979   \n",
       "1              lasso    0.696999   \n",
       "2      decision_tree    0.741391   \n",
       "\n",
       "                                         best_params  \n",
       "0                               {'normalize': False}  \n",
       "1                {'alpha': 2, 'selection': 'random'}  \n",
       "2  {'criterion': 'friedman_mse', 'splitter': 'best'}  "
      ]
     },
     "execution_count": 432,
     "metadata": {},
     "output_type": "execute_result"
    }
   ],
   "source": [
    "from sklearn.linear_model import Lasso\n",
    "from sklearn.tree import DecisionTreeRegressor\n",
    "def find_best_model_using_gridsearchcv(X,y):\n",
    "    algos = {\n",
    "        'linear_regression' : {\n",
    "            'model': regression,\n",
    "            'params': {\n",
    "                'normalize': [True, False]\n",
    "            }\n",
    "        },\n",
    "        'lasso': {\n",
    "            'model': clf,\n",
    "            'params': {\n",
    "                'alpha': [1,2],\n",
    "                'selection': ['random', 'cyclic']\n",
    "            }\n",
    "        },\n",
    "        'decision_tree': {\n",
    "            'model': modelo_nuevo,\n",
    "            'params': {\n",
    "                'criterion' : ['mse','friedman_mse'],\n",
    "                'splitter': ['best','random']\n",
    "            }\n",
    "        }\n",
    "    }\n",
    "    scores = []\n",
    "    cv = ShuffleSplit(n_splits=5, test_size=0.2, random_state=0)\n",
    "    for algo_name, config in algos.items():\n",
    "        gs =  GridSearchCV(config['model'], config['params'], cv=cv, return_train_score=False)\n",
    "        gs.fit(X,y)\n",
    "        scores.append({\n",
    "            'model': algo_name,\n",
    "            'best_score': gs.best_score_,\n",
    "            'best_params': gs.best_params_\n",
    "        })\n",
    "\n",
    "    return pd.DataFrame(scores,columns=['model','best_score','best_params'])\n",
    "\n",
    "find_best_model_using_gridsearchcv(X,y)"
   ]
  },
  {
   "cell_type": "markdown",
   "id": "3d3691df",
   "metadata": {},
   "source": [
    "## Repaso de Eda para planteo de nuevo modelo con nuevas variables independientes (x)"
   ]
  },
  {
   "cell_type": "code",
   "execution_count": 476,
   "id": "a60f70d5",
   "metadata": {},
   "outputs": [
    {
     "data": {
      "text/plain": [
       "1    1282\n",
       "2     146\n",
       "3      28\n",
       "5       3\n",
       "4       1\n",
       "Name: ExterCond, dtype: int64"
      ]
     },
     "execution_count": 476,
     "metadata": {},
     "output_type": "execute_result"
    }
   ],
   "source": [
    "X['ExterCond'].value_counts()"
   ]
  },
  {
   "cell_type": "code",
   "execution_count": 477,
   "id": "e31aef4e",
   "metadata": {},
   "outputs": [
    {
     "data": {
      "text/plain": [
       "1    1198\n",
       "3     125\n",
       "2     101\n",
       "6      20\n",
       "5      12\n",
       "4       4\n",
       "Name: SaleCondition, dtype: int64"
      ]
     },
     "execution_count": 477,
     "metadata": {},
     "output_type": "execute_result"
    }
   ],
   "source": [
    "X['SaleCondition'].value_counts()"
   ]
  },
  {
   "cell_type": "code",
   "execution_count": 478,
   "id": "21b77c0e",
   "metadata": {},
   "outputs": [
    {
     "data": {
      "text/plain": [
       "1    1459\n",
       "2       1\n",
       "Name: Utilities, dtype: int64"
      ]
     },
     "execution_count": 478,
     "metadata": {},
     "output_type": "execute_result"
    }
   ],
   "source": [
    "X['Utilities'].value_counts()"
   ]
  },
  {
   "cell_type": "code",
   "execution_count": 496,
   "id": "4ff9668b",
   "metadata": {},
   "outputs": [
    {
     "data": {
      "text/html": [
       "<div>\n",
       "<style scoped>\n",
       "    .dataframe tbody tr th:only-of-type {\n",
       "        vertical-align: middle;\n",
       "    }\n",
       "\n",
       "    .dataframe tbody tr th {\n",
       "        vertical-align: top;\n",
       "    }\n",
       "\n",
       "    .dataframe thead th {\n",
       "        text-align: right;\n",
       "    }\n",
       "</style>\n",
       "<table border=\"1\" class=\"dataframe\">\n",
       "  <thead>\n",
       "    <tr style=\"text-align: right;\">\n",
       "      <th></th>\n",
       "      <th>ExterCond</th>\n",
       "      <th>SaleCondition</th>\n",
       "      <th>Utilities</th>\n",
       "      <th>GarageArea</th>\n",
       "      <th>LotArea</th>\n",
       "      <th>YearBuilt</th>\n",
       "      <th>OverallCond</th>\n",
       "      <th>OverallQual</th>\n",
       "      <th>FullBath</th>\n",
       "      <th>KitchenAbvGr</th>\n",
       "      <th>BedroomAbvGr</th>\n",
       "      <th>TotRmsAbvGrd</th>\n",
       "      <th>PoolArea</th>\n",
       "      <th>2ndFlrSF</th>\n",
       "      <th>1stFlrSF</th>\n",
       "    </tr>\n",
       "  </thead>\n",
       "  <tbody>\n",
       "    <tr>\n",
       "      <th>1298</th>\n",
       "      <td>1</td>\n",
       "      <td>3</td>\n",
       "      <td>1</td>\n",
       "      <td>1418</td>\n",
       "      <td>63887</td>\n",
       "      <td>2008</td>\n",
       "      <td>5</td>\n",
       "      <td>10</td>\n",
       "      <td>2</td>\n",
       "      <td>1</td>\n",
       "      <td>3</td>\n",
       "      <td>12</td>\n",
       "      <td>480</td>\n",
       "      <td>950</td>\n",
       "      <td>4692</td>\n",
       "    </tr>\n",
       "  </tbody>\n",
       "</table>\n",
       "</div>"
      ],
      "text/plain": [
       "      ExterCond  SaleCondition  Utilities  GarageArea  LotArea  YearBuilt  \\\n",
       "1298          1              3          1        1418    63887       2008   \n",
       "\n",
       "      OverallCond  OverallQual  FullBath  KitchenAbvGr  BedroomAbvGr  \\\n",
       "1298            5           10         2             1             3   \n",
       "\n",
       "      TotRmsAbvGrd  PoolArea  2ndFlrSF  1stFlrSF  \n",
       "1298            12       480       950      4692  "
      ]
     },
     "execution_count": 496,
     "metadata": {},
     "output_type": "execute_result"
    }
   ],
   "source": [
    "X[X['GarageArea'] == 1418]"
   ]
  },
  {
   "cell_type": "code",
   "execution_count": 505,
   "id": "c698320a",
   "metadata": {},
   "outputs": [
    {
     "data": {
      "text/plain": [
       "7200     25\n",
       "9600     24\n",
       "6000     17\n",
       "9000     14\n",
       "8400     14\n",
       "         ..\n",
       "14601     1\n",
       "13682     1\n",
       "4058      1\n",
       "17104     1\n",
       "9717      1\n",
       "Name: LotArea, Length: 1073, dtype: int64"
      ]
     },
     "execution_count": 505,
     "metadata": {},
     "output_type": "execute_result"
    }
   ],
   "source": [
    "X['LotArea'].value_counts(ascending=False)"
   ]
  },
  {
   "cell_type": "code",
   "execution_count": 508,
   "id": "36056e5a",
   "metadata": {},
   "outputs": [
    {
     "data": {
      "text/plain": [
       "count    1460.000000\n",
       "mean     1971.267808\n",
       "std        30.202904\n",
       "min      1872.000000\n",
       "25%      1954.000000\n",
       "50%      1973.000000\n",
       "75%      2000.000000\n",
       "max      2010.000000\n",
       "Name: YearBuilt, dtype: float64"
      ]
     },
     "execution_count": 508,
     "metadata": {},
     "output_type": "execute_result"
    }
   ],
   "source": [
    "X['YearBuilt'].describe()"
   ]
  },
  {
   "cell_type": "code",
   "execution_count": 512,
   "id": "4264a12a",
   "metadata": {},
   "outputs": [
    {
     "data": {
      "text/plain": [
       "5    821\n",
       "6    252\n",
       "7    205\n",
       "8     72\n",
       "4     57\n",
       "3     25\n",
       "9     22\n",
       "2      5\n",
       "1      1\n",
       "Name: OverallCond, dtype: int64"
      ]
     },
     "execution_count": 512,
     "metadata": {},
     "output_type": "execute_result"
    }
   ],
   "source": [
    "X['OverallCond'].value_counts()"
   ]
  },
  {
   "cell_type": "code",
   "execution_count": 514,
   "id": "94531ab3",
   "metadata": {},
   "outputs": [
    {
     "data": {
      "text/plain": [
       "5     397\n",
       "6     374\n",
       "7     319\n",
       "8     168\n",
       "4     116\n",
       "9      43\n",
       "3      20\n",
       "10     18\n",
       "2       3\n",
       "1       2\n",
       "Name: OverallQual, dtype: int64"
      ]
     },
     "execution_count": 514,
     "metadata": {},
     "output_type": "execute_result"
    }
   ],
   "source": [
    "X['OverallQual'].value_counts()"
   ]
  },
  {
   "cell_type": "code",
   "execution_count": 516,
   "id": "665c272e",
   "metadata": {},
   "outputs": [
    {
     "data": {
      "text/plain": [
       "2    768\n",
       "1    650\n",
       "3     33\n",
       "0      9\n",
       "Name: FullBath, dtype: int64"
      ]
     },
     "execution_count": 516,
     "metadata": {},
     "output_type": "execute_result"
    }
   ],
   "source": [
    "X['FullBath'].value_counts()"
   ]
  },
  {
   "cell_type": "code",
   "execution_count": 518,
   "id": "75dbe729",
   "metadata": {},
   "outputs": [
    {
     "data": {
      "text/plain": [
       "1    1392\n",
       "2      65\n",
       "3       2\n",
       "0       1\n",
       "Name: KitchenAbvGr, dtype: int64"
      ]
     },
     "execution_count": 518,
     "metadata": {},
     "output_type": "execute_result"
    }
   ],
   "source": [
    "X['KitchenAbvGr'].value_counts()"
   ]
  },
  {
   "cell_type": "code",
   "execution_count": 522,
   "id": "50adf8a4",
   "metadata": {},
   "outputs": [
    {
     "data": {
      "text/plain": [
       "3    804\n",
       "2    358\n",
       "4    213\n",
       "1     50\n",
       "5     21\n",
       "6      7\n",
       "0      6\n",
       "8      1\n",
       "Name: BedroomAbvGr, dtype: int64"
      ]
     },
     "execution_count": 522,
     "metadata": {},
     "output_type": "execute_result"
    }
   ],
   "source": [
    "X['BedroomAbvGr'].value_counts()"
   ]
  },
  {
   "cell_type": "code",
   "execution_count": 524,
   "id": "0ef59c37",
   "metadata": {},
   "outputs": [
    {
     "data": {
      "text/plain": [
       "6     402\n",
       "7     329\n",
       "5     275\n",
       "8     187\n",
       "4      97\n",
       "9      75\n",
       "10     47\n",
       "11     18\n",
       "3      17\n",
       "12     11\n",
       "2       1\n",
       "14      1\n",
       "Name: TotRmsAbvGrd, dtype: int64"
      ]
     },
     "execution_count": 524,
     "metadata": {},
     "output_type": "execute_result"
    }
   ],
   "source": [
    "X['TotRmsAbvGrd'].value_counts()"
   ]
  },
  {
   "cell_type": "code",
   "execution_count": 527,
   "id": "ec69b312",
   "metadata": {},
   "outputs": [
    {
     "data": {
      "text/plain": [
       "512       1\n",
       "648       1\n",
       "576       1\n",
       "555       1\n",
       "480       1\n",
       "519       1\n",
       "738       1\n",
       "0      1453\n",
       "Name: PoolArea, dtype: int64"
      ]
     },
     "execution_count": 527,
     "metadata": {},
     "output_type": "execute_result"
    }
   ],
   "source": [
    "X['PoolArea'].value_counts(ascending=True)"
   ]
  },
  {
   "cell_type": "code",
   "execution_count": 536,
   "id": "271894ae",
   "metadata": {},
   "outputs": [
    {
     "data": {
      "text/plain": [
       "count    1460.000000\n",
       "mean      346.992466\n",
       "std       436.528436\n",
       "min         0.000000\n",
       "25%         0.000000\n",
       "50%         0.000000\n",
       "75%       728.000000\n",
       "max      2065.000000\n",
       "Name: 2ndFlrSF, dtype: float64"
      ]
     },
     "execution_count": 536,
     "metadata": {},
     "output_type": "execute_result"
    }
   ],
   "source": [
    "X['2ndFlrSF'].describe()"
   ]
  },
  {
   "cell_type": "code",
   "execution_count": 539,
   "id": "64cb66eb",
   "metadata": {},
   "outputs": [
    {
     "data": {
      "text/plain": [
       "count    1460.000000\n",
       "mean     1162.626712\n",
       "std       386.587738\n",
       "min       334.000000\n",
       "25%       882.000000\n",
       "50%      1087.000000\n",
       "75%      1391.250000\n",
       "max      4692.000000\n",
       "Name: 1stFlrSF, dtype: float64"
      ]
     },
     "execution_count": 539,
     "metadata": {},
     "output_type": "execute_result"
    }
   ],
   "source": [
    "X['1stFlrSF'].describe()"
   ]
  },
  {
   "cell_type": "markdown",
   "id": "6fba466b",
   "metadata": {},
   "source": [
    "### Nuevo modelo - RANDOM FOREST ---> MEJOR RESULTADO HASTA AHORA!"
   ]
  },
  {
   "cell_type": "code",
   "execution_count": 720,
   "id": "a945ebef",
   "metadata": {},
   "outputs": [],
   "source": [
    "from sklearn.ensemble import RandomForestRegressor\n",
    "forest_model = RandomForestRegressor()\n"
   ]
  },
  {
   "cell_type": "code",
   "execution_count": 721,
   "id": "f73880e8",
   "metadata": {},
   "outputs": [
    {
     "data": {
      "text/plain": [
       "RandomForestRegressor()"
      ]
     },
     "execution_count": 721,
     "metadata": {},
     "output_type": "execute_result"
    }
   ],
   "source": [
    "forest_model.fit(X_train,y_train)"
   ]
  },
  {
   "cell_type": "code",
   "execution_count": 722,
   "id": "8eed5014",
   "metadata": {},
   "outputs": [
    {
     "data": {
      "text/plain": [
       "0.9779067323967137"
      ]
     },
     "execution_count": 722,
     "metadata": {},
     "output_type": "execute_result"
    }
   ],
   "source": [
    "forest_model.score(X_train,y_train)"
   ]
  },
  {
   "cell_type": "code",
   "execution_count": 723,
   "id": "49b880b2",
   "metadata": {},
   "outputs": [
    {
     "data": {
      "text/plain": [
       "0.8644044631477035"
      ]
     },
     "execution_count": 723,
     "metadata": {},
     "output_type": "execute_result"
    }
   ],
   "source": [
    "forest_model.score(X_test,y_test)"
   ]
  },
  {
   "cell_type": "code",
   "execution_count": 724,
   "id": "1d54b8cc",
   "metadata": {},
   "outputs": [
    {
     "name": "stdout",
     "output_type": "stream",
     "text": [
      "[0.83530276 0.82894932 0.8129284  0.81669129 0.81820265] 0.8224148838093374\n"
     ]
    }
   ],
   "source": [
    "cv = ShuffleSplit(n_splits=5, test_size=0.2, random_state=0)\n",
    "lista_promedio = cross_val_score(forest_model, X, y, cv=cv)\n",
    "promedio = statistics.mean(lista_promedio)\n",
    "print(lista_promedio, promedio)"
   ]
  },
  {
   "cell_type": "code",
   "execution_count": 725,
   "id": "516a6b13",
   "metadata": {},
   "outputs": [],
   "source": [
    "predict_random_regressor = forest_model.predict(X_test)"
   ]
  },
  {
   "cell_type": "code",
   "execution_count": 726,
   "id": "8a2dc5b4",
   "metadata": {},
   "outputs": [
    {
     "data": {
      "text/plain": [
       "0.02267761043439889"
      ]
     },
     "execution_count": 726,
     "metadata": {},
     "output_type": "execute_result"
    }
   ],
   "source": [
    "from sklearn.metrics import mean_squared_log_error\n",
    "mean_squared_log_error(y_test, predict_random_regressor)"
   ]
  },
  {
   "cell_type": "markdown",
   "id": "0e4fdf5c",
   "metadata": {},
   "source": [
    "## Random Forest con nuevas 'x'"
   ]
  },
  {
   "cell_type": "code",
   "execution_count": 615,
   "id": "33dfffd5",
   "metadata": {},
   "outputs": [],
   "source": [
    "## Eliminé del modelo a 'Utilities' y 'PoolArea' por considerarlas poco útiles. Agregué 'RoofMatl'"
   ]
  },
  {
   "cell_type": "code",
   "execution_count": 763,
   "id": "b4215612",
   "metadata": {},
   "outputs": [],
   "source": [
    "X_n = housing_df[['ExterCond','SaleCondition','RoofMatl','GarageArea','LotArea','YearBuilt','OverallCond','OverallQual','FullBath','KitchenAbvGr','BedroomAbvGr','TotRmsAbvGrd','2ndFlrSF','1stFlrSF','MSSubClass','Neighborhood']]"
   ]
  },
  {
   "cell_type": "code",
   "execution_count": 764,
   "id": "77d36a01",
   "metadata": {},
   "outputs": [
    {
     "name": "stderr",
     "output_type": "stream",
     "text": [
      "C:\\Users\\Public\\Documents\\Wondershare\\CreatorTemp\\ipykernel_8932\\3299318115.py:1: SettingWithCopyWarning: \n",
      "A value is trying to be set on a copy of a slice from a DataFrame.\n",
      "Try using .loc[row_indexer,col_indexer] = value instead\n",
      "\n",
      "See the caveats in the documentation: https://pandas.pydata.org/pandas-docs/stable/user_guide/indexing.html#returning-a-view-versus-a-copy\n",
      "  X_n['ExterCond'] = X_n['ExterCond'].map({'TA': 1, 'Gd': 2, 'Fa': 3, 'Po': 4, 'Ex': 5})\n"
     ]
    }
   ],
   "source": [
    "X_n['ExterCond'] = X_n['ExterCond'].map({'TA': 1, 'Gd': 2, 'Fa': 3, 'Po': 4, 'Ex': 5})"
   ]
  },
  {
   "cell_type": "code",
   "execution_count": 765,
   "id": "3000afce",
   "metadata": {
    "scrolled": true
   },
   "outputs": [
    {
     "name": "stderr",
     "output_type": "stream",
     "text": [
      "C:\\Users\\Public\\Documents\\Wondershare\\CreatorTemp\\ipykernel_8932\\435960875.py:1: SettingWithCopyWarning: \n",
      "A value is trying to be set on a copy of a slice from a DataFrame.\n",
      "Try using .loc[row_indexer,col_indexer] = value instead\n",
      "\n",
      "See the caveats in the documentation: https://pandas.pydata.org/pandas-docs/stable/user_guide/indexing.html#returning-a-view-versus-a-copy\n",
      "  X_n['SaleCondition'] = X_n['SaleCondition'].map({'Normal': 1, 'Abnorml': 2, 'Partial': 3, 'AdjLand': 4, 'Alloca': 5, 'Family': 6})\n"
     ]
    }
   ],
   "source": [
    "X_n['SaleCondition'] = X_n['SaleCondition'].map({'Normal': 1, 'Abnorml': 2, 'Partial': 3, 'AdjLand': 4, 'Alloca': 5, 'Family': 6})"
   ]
  },
  {
   "cell_type": "code",
   "execution_count": 766,
   "id": "13aba455",
   "metadata": {
    "scrolled": false
   },
   "outputs": [
    {
     "name": "stderr",
     "output_type": "stream",
     "text": [
      "C:\\Users\\Public\\Documents\\Wondershare\\CreatorTemp\\ipykernel_8932\\3211413736.py:3: SettingWithCopyWarning: \n",
      "A value is trying to be set on a copy of a slice from a DataFrame.\n",
      "Try using .loc[row_indexer,col_indexer] = value instead\n",
      "\n",
      "See the caveats in the documentation: https://pandas.pydata.org/pandas-docs/stable/user_guide/indexing.html#returning-a-view-versus-a-copy\n",
      "  X_n['RoofMatl'] = X_n['RoofMatl'].apply(lambda x: 2 if x in roof_material_menos_15 else 1)\n"
     ]
    }
   ],
   "source": [
    "listado_roof = X_n['RoofMatl'].value_counts()\n",
    "roof_material_menos_15 = listado_roof[listado_roof<=15]\n",
    "X_n['RoofMatl'] = X_n['RoofMatl'].apply(lambda x: 2 if x in roof_material_menos_15 else 1)"
   ]
  },
  {
   "cell_type": "code",
   "execution_count": 769,
   "id": "5e7224ad",
   "metadata": {},
   "outputs": [
    {
     "data": {
      "text/plain": [
       "25"
      ]
     },
     "execution_count": 769,
     "metadata": {},
     "output_type": "execute_result"
    }
   ],
   "source": [
    "len(X_n['Neighborhood'].unique())"
   ]
  },
  {
   "cell_type": "code",
   "execution_count": 771,
   "id": "20232d87",
   "metadata": {},
   "outputs": [],
   "source": [
    "dummies = pd.get_dummies(X_n['Neighborhood'])"
   ]
  },
  {
   "cell_type": "code",
   "execution_count": 774,
   "id": "d4e4b61f",
   "metadata": {},
   "outputs": [],
   "source": [
    "X_new = pd.concat([X_n,dummies],axis='columns')"
   ]
  },
  {
   "cell_type": "code",
   "execution_count": 780,
   "id": "67a39d24",
   "metadata": {},
   "outputs": [],
   "source": [
    "#X_new.drop(['Neighborhood'],axis='columns',inplace=True)"
   ]
  },
  {
   "cell_type": "code",
   "execution_count": 731,
   "id": "c27b96f3",
   "metadata": {},
   "outputs": [],
   "source": [
    "y_n = housing_df['SalePrice']"
   ]
  },
  {
   "cell_type": "code",
   "execution_count": 781,
   "id": "53334832",
   "metadata": {},
   "outputs": [],
   "source": [
    "from sklearn.model_selection import train_test_split\n",
    "X_ntrain,X_ntest,y_ntrain,y_ntest = train_test_split(X_new,y_n,test_size=0.2)"
   ]
  },
  {
   "cell_type": "code",
   "execution_count": 782,
   "id": "020bc6ed",
   "metadata": {},
   "outputs": [],
   "source": [
    "from sklearn.ensemble import RandomForestRegressor\n",
    "model_rf = RandomForestRegressor(max_depth=30)"
   ]
  },
  {
   "cell_type": "code",
   "execution_count": 783,
   "id": "a774bf5d",
   "metadata": {},
   "outputs": [
    {
     "data": {
      "text/plain": [
       "RandomForestRegressor(max_depth=30)"
      ]
     },
     "execution_count": 783,
     "metadata": {},
     "output_type": "execute_result"
    }
   ],
   "source": [
    "model_rf.fit(X_ntrain,y_ntrain)"
   ]
  },
  {
   "cell_type": "code",
   "execution_count": 784,
   "id": "353ef7f0",
   "metadata": {},
   "outputs": [
    {
     "data": {
      "text/plain": [
       "0.9780268284671131"
      ]
     },
     "execution_count": 784,
     "metadata": {},
     "output_type": "execute_result"
    }
   ],
   "source": [
    "model_rf.score(X_ntrain,y_ntrain)"
   ]
  },
  {
   "cell_type": "code",
   "execution_count": 785,
   "id": "11206146",
   "metadata": {},
   "outputs": [
    {
     "data": {
      "text/plain": [
       "0.8686276975677603"
      ]
     },
     "execution_count": 785,
     "metadata": {},
     "output_type": "execute_result"
    }
   ],
   "source": [
    "model_rf.score(X_ntest,y_ntest)"
   ]
  },
  {
   "cell_type": "code",
   "execution_count": 788,
   "id": "4e18de74",
   "metadata": {},
   "outputs": [
    {
     "name": "stdout",
     "output_type": "stream",
     "text": [
      "[0.82829241 0.84050897 0.82639941 0.84026217 0.82034599] 0.8311617914162946\n"
     ]
    }
   ],
   "source": [
    "cv = ShuffleSplit(n_splits=5, test_size=0.2, random_state=0)\n",
    "lista_promedio = cross_val_score(model_rf, X_new, y_n, cv=cv)\n",
    "promedio = statistics.mean(lista_promedio)\n",
    "print(lista_promedio, promedio)"
   ]
  },
  {
   "cell_type": "code",
   "execution_count": 787,
   "id": "5f2b429a",
   "metadata": {},
   "outputs": [
    {
     "data": {
      "text/plain": [
       "0.018708323774868668"
      ]
     },
     "execution_count": 787,
     "metadata": {},
     "output_type": "execute_result"
    }
   ],
   "source": [
    "y_rf = model_rf.predict(X_ntest)\n",
    "from sklearn.metrics import mean_squared_log_error\n",
    "mean_squared_log_error(y_ntest, y_rf)"
   ]
  },
  {
   "cell_type": "markdown",
   "id": "6c207774",
   "metadata": {},
   "source": [
    "***"
   ]
  },
  {
   "cell_type": "markdown",
   "id": "c3112b77",
   "metadata": {},
   "source": [
    "***"
   ]
  }
 ],
 "metadata": {
  "kernelspec": {
   "display_name": "Python 3 (ipykernel)",
   "language": "python",
   "name": "python3"
  },
  "language_info": {
   "codemirror_mode": {
    "name": "ipython",
    "version": 3
   },
   "file_extension": ".py",
   "mimetype": "text/x-python",
   "name": "python",
   "nbconvert_exporter": "python",
   "pygments_lexer": "ipython3",
   "version": "3.9.7"
  }
 },
 "nbformat": 4,
 "nbformat_minor": 5
}
